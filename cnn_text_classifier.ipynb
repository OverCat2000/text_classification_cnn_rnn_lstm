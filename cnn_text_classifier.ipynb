{
  "nbformat": 4,
  "nbformat_minor": 0,
  "metadata": {
    "colab": {
      "provenance": [],
      "gpuType": "T4",
      "authorship_tag": "ABX9TyMp4k/AzytavcwFJB6k2fVD",
      "include_colab_link": true
    },
    "kernelspec": {
      "name": "python3",
      "display_name": "Python 3"
    },
    "language_info": {
      "name": "python"
    },
    "widgets": {
      "application/vnd.jupyter.widget-state+json": {
        "a70d8d68313a4d2d8d565bbe9a134ce9": {
          "model_module": "@jupyter-widgets/controls",
          "model_name": "HBoxModel",
          "model_module_version": "1.5.0",
          "state": {
            "_dom_classes": [],
            "_model_module": "@jupyter-widgets/controls",
            "_model_module_version": "1.5.0",
            "_model_name": "HBoxModel",
            "_view_count": null,
            "_view_module": "@jupyter-widgets/controls",
            "_view_module_version": "1.5.0",
            "_view_name": "HBoxView",
            "box_style": "",
            "children": [
              "IPY_MODEL_9b6b9f219f5f4824a5d9c9ee5cbad5bd",
              "IPY_MODEL_ff0634d6fc194abeb801cf4e078be673",
              "IPY_MODEL_0586c70c7312408d9a5f1203a426b25d"
            ],
            "layout": "IPY_MODEL_74fcff82e3884079a7d05b249936e23e"
          }
        },
        "9b6b9f219f5f4824a5d9c9ee5cbad5bd": {
          "model_module": "@jupyter-widgets/controls",
          "model_name": "HTMLModel",
          "model_module_version": "1.5.0",
          "state": {
            "_dom_classes": [],
            "_model_module": "@jupyter-widgets/controls",
            "_model_module_version": "1.5.0",
            "_model_name": "HTMLModel",
            "_view_count": null,
            "_view_module": "@jupyter-widgets/controls",
            "_view_module_version": "1.5.0",
            "_view_name": "HTMLView",
            "description": "",
            "description_tooltip": null,
            "layout": "IPY_MODEL_f7096a30a5d04d448d3314b4acf46d8a",
            "placeholder": "​",
            "style": "IPY_MODEL_eef20f5141264249be3978f8bf87c827",
            "value": "100%"
          }
        },
        "ff0634d6fc194abeb801cf4e078be673": {
          "model_module": "@jupyter-widgets/controls",
          "model_name": "FloatProgressModel",
          "model_module_version": "1.5.0",
          "state": {
            "_dom_classes": [],
            "_model_module": "@jupyter-widgets/controls",
            "_model_module_version": "1.5.0",
            "_model_name": "FloatProgressModel",
            "_view_count": null,
            "_view_module": "@jupyter-widgets/controls",
            "_view_module_version": "1.5.0",
            "_view_name": "ProgressView",
            "bar_style": "success",
            "description": "",
            "description_tooltip": null,
            "layout": "IPY_MODEL_fb0edbab86d84fab9ff7184d36c3f591",
            "max": 800,
            "min": 0,
            "orientation": "horizontal",
            "style": "IPY_MODEL_7385b46e97474afeb67c8a0762634dd2",
            "value": 800
          }
        },
        "0586c70c7312408d9a5f1203a426b25d": {
          "model_module": "@jupyter-widgets/controls",
          "model_name": "HTMLModel",
          "model_module_version": "1.5.0",
          "state": {
            "_dom_classes": [],
            "_model_module": "@jupyter-widgets/controls",
            "_model_module_version": "1.5.0",
            "_model_name": "HTMLModel",
            "_view_count": null,
            "_view_module": "@jupyter-widgets/controls",
            "_view_module_version": "1.5.0",
            "_view_name": "HTMLView",
            "description": "",
            "description_tooltip": null,
            "layout": "IPY_MODEL_506a0c03805144dc80fb1f46169f5c36",
            "placeholder": "​",
            "style": "IPY_MODEL_d175c0e291a444be88baa4121dd849ca",
            "value": " 800/800 [00:00&lt;00:00, 16098.97it/s]"
          }
        },
        "74fcff82e3884079a7d05b249936e23e": {
          "model_module": "@jupyter-widgets/base",
          "model_name": "LayoutModel",
          "model_module_version": "1.2.0",
          "state": {
            "_model_module": "@jupyter-widgets/base",
            "_model_module_version": "1.2.0",
            "_model_name": "LayoutModel",
            "_view_count": null,
            "_view_module": "@jupyter-widgets/base",
            "_view_module_version": "1.2.0",
            "_view_name": "LayoutView",
            "align_content": null,
            "align_items": null,
            "align_self": null,
            "border": null,
            "bottom": null,
            "display": null,
            "flex": null,
            "flex_flow": null,
            "grid_area": null,
            "grid_auto_columns": null,
            "grid_auto_flow": null,
            "grid_auto_rows": null,
            "grid_column": null,
            "grid_gap": null,
            "grid_row": null,
            "grid_template_areas": null,
            "grid_template_columns": null,
            "grid_template_rows": null,
            "height": null,
            "justify_content": null,
            "justify_items": null,
            "left": null,
            "margin": null,
            "max_height": null,
            "max_width": null,
            "min_height": null,
            "min_width": null,
            "object_fit": null,
            "object_position": null,
            "order": null,
            "overflow": null,
            "overflow_x": null,
            "overflow_y": null,
            "padding": null,
            "right": null,
            "top": null,
            "visibility": null,
            "width": null
          }
        },
        "f7096a30a5d04d448d3314b4acf46d8a": {
          "model_module": "@jupyter-widgets/base",
          "model_name": "LayoutModel",
          "model_module_version": "1.2.0",
          "state": {
            "_model_module": "@jupyter-widgets/base",
            "_model_module_version": "1.2.0",
            "_model_name": "LayoutModel",
            "_view_count": null,
            "_view_module": "@jupyter-widgets/base",
            "_view_module_version": "1.2.0",
            "_view_name": "LayoutView",
            "align_content": null,
            "align_items": null,
            "align_self": null,
            "border": null,
            "bottom": null,
            "display": null,
            "flex": null,
            "flex_flow": null,
            "grid_area": null,
            "grid_auto_columns": null,
            "grid_auto_flow": null,
            "grid_auto_rows": null,
            "grid_column": null,
            "grid_gap": null,
            "grid_row": null,
            "grid_template_areas": null,
            "grid_template_columns": null,
            "grid_template_rows": null,
            "height": null,
            "justify_content": null,
            "justify_items": null,
            "left": null,
            "margin": null,
            "max_height": null,
            "max_width": null,
            "min_height": null,
            "min_width": null,
            "object_fit": null,
            "object_position": null,
            "order": null,
            "overflow": null,
            "overflow_x": null,
            "overflow_y": null,
            "padding": null,
            "right": null,
            "top": null,
            "visibility": null,
            "width": null
          }
        },
        "eef20f5141264249be3978f8bf87c827": {
          "model_module": "@jupyter-widgets/controls",
          "model_name": "DescriptionStyleModel",
          "model_module_version": "1.5.0",
          "state": {
            "_model_module": "@jupyter-widgets/controls",
            "_model_module_version": "1.5.0",
            "_model_name": "DescriptionStyleModel",
            "_view_count": null,
            "_view_module": "@jupyter-widgets/base",
            "_view_module_version": "1.2.0",
            "_view_name": "StyleView",
            "description_width": ""
          }
        },
        "fb0edbab86d84fab9ff7184d36c3f591": {
          "model_module": "@jupyter-widgets/base",
          "model_name": "LayoutModel",
          "model_module_version": "1.2.0",
          "state": {
            "_model_module": "@jupyter-widgets/base",
            "_model_module_version": "1.2.0",
            "_model_name": "LayoutModel",
            "_view_count": null,
            "_view_module": "@jupyter-widgets/base",
            "_view_module_version": "1.2.0",
            "_view_name": "LayoutView",
            "align_content": null,
            "align_items": null,
            "align_self": null,
            "border": null,
            "bottom": null,
            "display": null,
            "flex": null,
            "flex_flow": null,
            "grid_area": null,
            "grid_auto_columns": null,
            "grid_auto_flow": null,
            "grid_auto_rows": null,
            "grid_column": null,
            "grid_gap": null,
            "grid_row": null,
            "grid_template_areas": null,
            "grid_template_columns": null,
            "grid_template_rows": null,
            "height": null,
            "justify_content": null,
            "justify_items": null,
            "left": null,
            "margin": null,
            "max_height": null,
            "max_width": null,
            "min_height": null,
            "min_width": null,
            "object_fit": null,
            "object_position": null,
            "order": null,
            "overflow": null,
            "overflow_x": null,
            "overflow_y": null,
            "padding": null,
            "right": null,
            "top": null,
            "visibility": null,
            "width": null
          }
        },
        "7385b46e97474afeb67c8a0762634dd2": {
          "model_module": "@jupyter-widgets/controls",
          "model_name": "ProgressStyleModel",
          "model_module_version": "1.5.0",
          "state": {
            "_model_module": "@jupyter-widgets/controls",
            "_model_module_version": "1.5.0",
            "_model_name": "ProgressStyleModel",
            "_view_count": null,
            "_view_module": "@jupyter-widgets/base",
            "_view_module_version": "1.2.0",
            "_view_name": "StyleView",
            "bar_color": null,
            "description_width": ""
          }
        },
        "506a0c03805144dc80fb1f46169f5c36": {
          "model_module": "@jupyter-widgets/base",
          "model_name": "LayoutModel",
          "model_module_version": "1.2.0",
          "state": {
            "_model_module": "@jupyter-widgets/base",
            "_model_module_version": "1.2.0",
            "_model_name": "LayoutModel",
            "_view_count": null,
            "_view_module": "@jupyter-widgets/base",
            "_view_module_version": "1.2.0",
            "_view_name": "LayoutView",
            "align_content": null,
            "align_items": null,
            "align_self": null,
            "border": null,
            "bottom": null,
            "display": null,
            "flex": null,
            "flex_flow": null,
            "grid_area": null,
            "grid_auto_columns": null,
            "grid_auto_flow": null,
            "grid_auto_rows": null,
            "grid_column": null,
            "grid_gap": null,
            "grid_row": null,
            "grid_template_areas": null,
            "grid_template_columns": null,
            "grid_template_rows": null,
            "height": null,
            "justify_content": null,
            "justify_items": null,
            "left": null,
            "margin": null,
            "max_height": null,
            "max_width": null,
            "min_height": null,
            "min_width": null,
            "object_fit": null,
            "object_position": null,
            "order": null,
            "overflow": null,
            "overflow_x": null,
            "overflow_y": null,
            "padding": null,
            "right": null,
            "top": null,
            "visibility": null,
            "width": null
          }
        },
        "d175c0e291a444be88baa4121dd849ca": {
          "model_module": "@jupyter-widgets/controls",
          "model_name": "DescriptionStyleModel",
          "model_module_version": "1.5.0",
          "state": {
            "_model_module": "@jupyter-widgets/controls",
            "_model_module_version": "1.5.0",
            "_model_name": "DescriptionStyleModel",
            "_view_count": null,
            "_view_module": "@jupyter-widgets/base",
            "_view_module_version": "1.2.0",
            "_view_name": "StyleView",
            "description_width": ""
          }
        },
        "5f80e8e57c6247f09c6754d22f1324ca": {
          "model_module": "@jupyter-widgets/controls",
          "model_name": "HBoxModel",
          "model_module_version": "1.5.0",
          "state": {
            "_dom_classes": [],
            "_model_module": "@jupyter-widgets/controls",
            "_model_module_version": "1.5.0",
            "_model_name": "HBoxModel",
            "_view_count": null,
            "_view_module": "@jupyter-widgets/controls",
            "_view_module_version": "1.5.0",
            "_view_name": "HBoxView",
            "box_style": "",
            "children": [
              "IPY_MODEL_f603792d77284309acc8db0894e2b73f",
              "IPY_MODEL_53403162c93d4429b54be5f7226bf4ea",
              "IPY_MODEL_7125d0c978824dab989106b0bb7c8364"
            ],
            "layout": "IPY_MODEL_53f9aa2a410f48fea274a7aac0436b3c"
          }
        },
        "f603792d77284309acc8db0894e2b73f": {
          "model_module": "@jupyter-widgets/controls",
          "model_name": "HTMLModel",
          "model_module_version": "1.5.0",
          "state": {
            "_dom_classes": [],
            "_model_module": "@jupyter-widgets/controls",
            "_model_module_version": "1.5.0",
            "_model_name": "HTMLModel",
            "_view_count": null,
            "_view_module": "@jupyter-widgets/controls",
            "_view_module_version": "1.5.0",
            "_view_name": "HTMLView",
            "description": "",
            "description_tooltip": null,
            "layout": "IPY_MODEL_9aaa27f2b9e3462885863654f3c86f5e",
            "placeholder": "​",
            "style": "IPY_MODEL_c462e064f62e49ac938609b0db6f2133",
            "value": "100%"
          }
        },
        "53403162c93d4429b54be5f7226bf4ea": {
          "model_module": "@jupyter-widgets/controls",
          "model_name": "FloatProgressModel",
          "model_module_version": "1.5.0",
          "state": {
            "_dom_classes": [],
            "_model_module": "@jupyter-widgets/controls",
            "_model_module_version": "1.5.0",
            "_model_name": "FloatProgressModel",
            "_view_count": null,
            "_view_module": "@jupyter-widgets/controls",
            "_view_module_version": "1.5.0",
            "_view_name": "ProgressView",
            "bar_style": "success",
            "description": "",
            "description_tooltip": null,
            "layout": "IPY_MODEL_25cb49335c0947c1bad5e81c324f7b54",
            "max": 200,
            "min": 0,
            "orientation": "horizontal",
            "style": "IPY_MODEL_36a10f20c4094c72ba11dbe79f986e2e",
            "value": 200
          }
        },
        "7125d0c978824dab989106b0bb7c8364": {
          "model_module": "@jupyter-widgets/controls",
          "model_name": "HTMLModel",
          "model_module_version": "1.5.0",
          "state": {
            "_dom_classes": [],
            "_model_module": "@jupyter-widgets/controls",
            "_model_module_version": "1.5.0",
            "_model_name": "HTMLModel",
            "_view_count": null,
            "_view_module": "@jupyter-widgets/controls",
            "_view_module_version": "1.5.0",
            "_view_name": "HTMLView",
            "description": "",
            "description_tooltip": null,
            "layout": "IPY_MODEL_698f8ba92c5d4dc6b5b42ba55707600a",
            "placeholder": "​",
            "style": "IPY_MODEL_4c03d007d1274cd1b872adc4b04c7f46",
            "value": " 200/200 [00:00&lt;00:00, 6679.73it/s]"
          }
        },
        "53f9aa2a410f48fea274a7aac0436b3c": {
          "model_module": "@jupyter-widgets/base",
          "model_name": "LayoutModel",
          "model_module_version": "1.2.0",
          "state": {
            "_model_module": "@jupyter-widgets/base",
            "_model_module_version": "1.2.0",
            "_model_name": "LayoutModel",
            "_view_count": null,
            "_view_module": "@jupyter-widgets/base",
            "_view_module_version": "1.2.0",
            "_view_name": "LayoutView",
            "align_content": null,
            "align_items": null,
            "align_self": null,
            "border": null,
            "bottom": null,
            "display": null,
            "flex": null,
            "flex_flow": null,
            "grid_area": null,
            "grid_auto_columns": null,
            "grid_auto_flow": null,
            "grid_auto_rows": null,
            "grid_column": null,
            "grid_gap": null,
            "grid_row": null,
            "grid_template_areas": null,
            "grid_template_columns": null,
            "grid_template_rows": null,
            "height": null,
            "justify_content": null,
            "justify_items": null,
            "left": null,
            "margin": null,
            "max_height": null,
            "max_width": null,
            "min_height": null,
            "min_width": null,
            "object_fit": null,
            "object_position": null,
            "order": null,
            "overflow": null,
            "overflow_x": null,
            "overflow_y": null,
            "padding": null,
            "right": null,
            "top": null,
            "visibility": null,
            "width": null
          }
        },
        "9aaa27f2b9e3462885863654f3c86f5e": {
          "model_module": "@jupyter-widgets/base",
          "model_name": "LayoutModel",
          "model_module_version": "1.2.0",
          "state": {
            "_model_module": "@jupyter-widgets/base",
            "_model_module_version": "1.2.0",
            "_model_name": "LayoutModel",
            "_view_count": null,
            "_view_module": "@jupyter-widgets/base",
            "_view_module_version": "1.2.0",
            "_view_name": "LayoutView",
            "align_content": null,
            "align_items": null,
            "align_self": null,
            "border": null,
            "bottom": null,
            "display": null,
            "flex": null,
            "flex_flow": null,
            "grid_area": null,
            "grid_auto_columns": null,
            "grid_auto_flow": null,
            "grid_auto_rows": null,
            "grid_column": null,
            "grid_gap": null,
            "grid_row": null,
            "grid_template_areas": null,
            "grid_template_columns": null,
            "grid_template_rows": null,
            "height": null,
            "justify_content": null,
            "justify_items": null,
            "left": null,
            "margin": null,
            "max_height": null,
            "max_width": null,
            "min_height": null,
            "min_width": null,
            "object_fit": null,
            "object_position": null,
            "order": null,
            "overflow": null,
            "overflow_x": null,
            "overflow_y": null,
            "padding": null,
            "right": null,
            "top": null,
            "visibility": null,
            "width": null
          }
        },
        "c462e064f62e49ac938609b0db6f2133": {
          "model_module": "@jupyter-widgets/controls",
          "model_name": "DescriptionStyleModel",
          "model_module_version": "1.5.0",
          "state": {
            "_model_module": "@jupyter-widgets/controls",
            "_model_module_version": "1.5.0",
            "_model_name": "DescriptionStyleModel",
            "_view_count": null,
            "_view_module": "@jupyter-widgets/base",
            "_view_module_version": "1.2.0",
            "_view_name": "StyleView",
            "description_width": ""
          }
        },
        "25cb49335c0947c1bad5e81c324f7b54": {
          "model_module": "@jupyter-widgets/base",
          "model_name": "LayoutModel",
          "model_module_version": "1.2.0",
          "state": {
            "_model_module": "@jupyter-widgets/base",
            "_model_module_version": "1.2.0",
            "_model_name": "LayoutModel",
            "_view_count": null,
            "_view_module": "@jupyter-widgets/base",
            "_view_module_version": "1.2.0",
            "_view_name": "LayoutView",
            "align_content": null,
            "align_items": null,
            "align_self": null,
            "border": null,
            "bottom": null,
            "display": null,
            "flex": null,
            "flex_flow": null,
            "grid_area": null,
            "grid_auto_columns": null,
            "grid_auto_flow": null,
            "grid_auto_rows": null,
            "grid_column": null,
            "grid_gap": null,
            "grid_row": null,
            "grid_template_areas": null,
            "grid_template_columns": null,
            "grid_template_rows": null,
            "height": null,
            "justify_content": null,
            "justify_items": null,
            "left": null,
            "margin": null,
            "max_height": null,
            "max_width": null,
            "min_height": null,
            "min_width": null,
            "object_fit": null,
            "object_position": null,
            "order": null,
            "overflow": null,
            "overflow_x": null,
            "overflow_y": null,
            "padding": null,
            "right": null,
            "top": null,
            "visibility": null,
            "width": null
          }
        },
        "36a10f20c4094c72ba11dbe79f986e2e": {
          "model_module": "@jupyter-widgets/controls",
          "model_name": "ProgressStyleModel",
          "model_module_version": "1.5.0",
          "state": {
            "_model_module": "@jupyter-widgets/controls",
            "_model_module_version": "1.5.0",
            "_model_name": "ProgressStyleModel",
            "_view_count": null,
            "_view_module": "@jupyter-widgets/base",
            "_view_module_version": "1.2.0",
            "_view_name": "StyleView",
            "bar_color": null,
            "description_width": ""
          }
        },
        "698f8ba92c5d4dc6b5b42ba55707600a": {
          "model_module": "@jupyter-widgets/base",
          "model_name": "LayoutModel",
          "model_module_version": "1.2.0",
          "state": {
            "_model_module": "@jupyter-widgets/base",
            "_model_module_version": "1.2.0",
            "_model_name": "LayoutModel",
            "_view_count": null,
            "_view_module": "@jupyter-widgets/base",
            "_view_module_version": "1.2.0",
            "_view_name": "LayoutView",
            "align_content": null,
            "align_items": null,
            "align_self": null,
            "border": null,
            "bottom": null,
            "display": null,
            "flex": null,
            "flex_flow": null,
            "grid_area": null,
            "grid_auto_columns": null,
            "grid_auto_flow": null,
            "grid_auto_rows": null,
            "grid_column": null,
            "grid_gap": null,
            "grid_row": null,
            "grid_template_areas": null,
            "grid_template_columns": null,
            "grid_template_rows": null,
            "height": null,
            "justify_content": null,
            "justify_items": null,
            "left": null,
            "margin": null,
            "max_height": null,
            "max_width": null,
            "min_height": null,
            "min_width": null,
            "object_fit": null,
            "object_position": null,
            "order": null,
            "overflow": null,
            "overflow_x": null,
            "overflow_y": null,
            "padding": null,
            "right": null,
            "top": null,
            "visibility": null,
            "width": null
          }
        },
        "4c03d007d1274cd1b872adc4b04c7f46": {
          "model_module": "@jupyter-widgets/controls",
          "model_name": "DescriptionStyleModel",
          "model_module_version": "1.5.0",
          "state": {
            "_model_module": "@jupyter-widgets/controls",
            "_model_module_version": "1.5.0",
            "_model_name": "DescriptionStyleModel",
            "_view_count": null,
            "_view_module": "@jupyter-widgets/base",
            "_view_module_version": "1.2.0",
            "_view_name": "StyleView",
            "description_width": ""
          }
        },
        "130ee5d26e5d499abcb665fb56f4f55d": {
          "model_module": "@jupyter-widgets/controls",
          "model_name": "HBoxModel",
          "model_module_version": "1.5.0",
          "state": {
            "_dom_classes": [],
            "_model_module": "@jupyter-widgets/controls",
            "_model_module_version": "1.5.0",
            "_model_name": "HBoxModel",
            "_view_count": null,
            "_view_module": "@jupyter-widgets/controls",
            "_view_module_version": "1.5.0",
            "_view_name": "HBoxView",
            "box_style": "",
            "children": [
              "IPY_MODEL_32e5a68abd1c415280ea8a13fc31eb0f",
              "IPY_MODEL_9bc2c84da6c440c8a4eea89977e64811",
              "IPY_MODEL_53d4b7a807fa4bef8a6e9bb3078a100a"
            ],
            "layout": "IPY_MODEL_3ba41fc4343144a5bd50d49c2d4bafd7"
          }
        },
        "32e5a68abd1c415280ea8a13fc31eb0f": {
          "model_module": "@jupyter-widgets/controls",
          "model_name": "HTMLModel",
          "model_module_version": "1.5.0",
          "state": {
            "_dom_classes": [],
            "_model_module": "@jupyter-widgets/controls",
            "_model_module_version": "1.5.0",
            "_model_name": "HTMLModel",
            "_view_count": null,
            "_view_module": "@jupyter-widgets/controls",
            "_view_module_version": "1.5.0",
            "_view_name": "HTMLView",
            "description": "",
            "description_tooltip": null,
            "layout": "IPY_MODEL_f22e4c5d736544298651dc936752eece",
            "placeholder": "​",
            "style": "IPY_MODEL_1ca0fa64ddba491794d008975f59835c",
            "value": "100%"
          }
        },
        "9bc2c84da6c440c8a4eea89977e64811": {
          "model_module": "@jupyter-widgets/controls",
          "model_name": "FloatProgressModel",
          "model_module_version": "1.5.0",
          "state": {
            "_dom_classes": [],
            "_model_module": "@jupyter-widgets/controls",
            "_model_module_version": "1.5.0",
            "_model_name": "FloatProgressModel",
            "_view_count": null,
            "_view_module": "@jupyter-widgets/controls",
            "_view_module_version": "1.5.0",
            "_view_name": "ProgressView",
            "bar_style": "success",
            "description": "",
            "description_tooltip": null,
            "layout": "IPY_MODEL_814f1588f8984aa0844adc749e213cce",
            "max": 100,
            "min": 0,
            "orientation": "horizontal",
            "style": "IPY_MODEL_aaa1b8b76aa24318a5ef2fc8407585c8",
            "value": 100
          }
        },
        "53d4b7a807fa4bef8a6e9bb3078a100a": {
          "model_module": "@jupyter-widgets/controls",
          "model_name": "HTMLModel",
          "model_module_version": "1.5.0",
          "state": {
            "_dom_classes": [],
            "_model_module": "@jupyter-widgets/controls",
            "_model_module_version": "1.5.0",
            "_model_name": "HTMLModel",
            "_view_count": null,
            "_view_module": "@jupyter-widgets/controls",
            "_view_module_version": "1.5.0",
            "_view_name": "HTMLView",
            "description": "",
            "description_tooltip": null,
            "layout": "IPY_MODEL_1235541afcae4a20bf0103d2ba829c8a",
            "placeholder": "​",
            "style": "IPY_MODEL_ca440f16dd664345a9a6c0d48184d3ad",
            "value": " 100/100 [00:37&lt;00:00,  2.99it/s]"
          }
        },
        "3ba41fc4343144a5bd50d49c2d4bafd7": {
          "model_module": "@jupyter-widgets/base",
          "model_name": "LayoutModel",
          "model_module_version": "1.2.0",
          "state": {
            "_model_module": "@jupyter-widgets/base",
            "_model_module_version": "1.2.0",
            "_model_name": "LayoutModel",
            "_view_count": null,
            "_view_module": "@jupyter-widgets/base",
            "_view_module_version": "1.2.0",
            "_view_name": "LayoutView",
            "align_content": null,
            "align_items": null,
            "align_self": null,
            "border": null,
            "bottom": null,
            "display": null,
            "flex": null,
            "flex_flow": null,
            "grid_area": null,
            "grid_auto_columns": null,
            "grid_auto_flow": null,
            "grid_auto_rows": null,
            "grid_column": null,
            "grid_gap": null,
            "grid_row": null,
            "grid_template_areas": null,
            "grid_template_columns": null,
            "grid_template_rows": null,
            "height": null,
            "justify_content": null,
            "justify_items": null,
            "left": null,
            "margin": null,
            "max_height": null,
            "max_width": null,
            "min_height": null,
            "min_width": null,
            "object_fit": null,
            "object_position": null,
            "order": null,
            "overflow": null,
            "overflow_x": null,
            "overflow_y": null,
            "padding": null,
            "right": null,
            "top": null,
            "visibility": null,
            "width": null
          }
        },
        "f22e4c5d736544298651dc936752eece": {
          "model_module": "@jupyter-widgets/base",
          "model_name": "LayoutModel",
          "model_module_version": "1.2.0",
          "state": {
            "_model_module": "@jupyter-widgets/base",
            "_model_module_version": "1.2.0",
            "_model_name": "LayoutModel",
            "_view_count": null,
            "_view_module": "@jupyter-widgets/base",
            "_view_module_version": "1.2.0",
            "_view_name": "LayoutView",
            "align_content": null,
            "align_items": null,
            "align_self": null,
            "border": null,
            "bottom": null,
            "display": null,
            "flex": null,
            "flex_flow": null,
            "grid_area": null,
            "grid_auto_columns": null,
            "grid_auto_flow": null,
            "grid_auto_rows": null,
            "grid_column": null,
            "grid_gap": null,
            "grid_row": null,
            "grid_template_areas": null,
            "grid_template_columns": null,
            "grid_template_rows": null,
            "height": null,
            "justify_content": null,
            "justify_items": null,
            "left": null,
            "margin": null,
            "max_height": null,
            "max_width": null,
            "min_height": null,
            "min_width": null,
            "object_fit": null,
            "object_position": null,
            "order": null,
            "overflow": null,
            "overflow_x": null,
            "overflow_y": null,
            "padding": null,
            "right": null,
            "top": null,
            "visibility": null,
            "width": null
          }
        },
        "1ca0fa64ddba491794d008975f59835c": {
          "model_module": "@jupyter-widgets/controls",
          "model_name": "DescriptionStyleModel",
          "model_module_version": "1.5.0",
          "state": {
            "_model_module": "@jupyter-widgets/controls",
            "_model_module_version": "1.5.0",
            "_model_name": "DescriptionStyleModel",
            "_view_count": null,
            "_view_module": "@jupyter-widgets/base",
            "_view_module_version": "1.2.0",
            "_view_name": "StyleView",
            "description_width": ""
          }
        },
        "814f1588f8984aa0844adc749e213cce": {
          "model_module": "@jupyter-widgets/base",
          "model_name": "LayoutModel",
          "model_module_version": "1.2.0",
          "state": {
            "_model_module": "@jupyter-widgets/base",
            "_model_module_version": "1.2.0",
            "_model_name": "LayoutModel",
            "_view_count": null,
            "_view_module": "@jupyter-widgets/base",
            "_view_module_version": "1.2.0",
            "_view_name": "LayoutView",
            "align_content": null,
            "align_items": null,
            "align_self": null,
            "border": null,
            "bottom": null,
            "display": null,
            "flex": null,
            "flex_flow": null,
            "grid_area": null,
            "grid_auto_columns": null,
            "grid_auto_flow": null,
            "grid_auto_rows": null,
            "grid_column": null,
            "grid_gap": null,
            "grid_row": null,
            "grid_template_areas": null,
            "grid_template_columns": null,
            "grid_template_rows": null,
            "height": null,
            "justify_content": null,
            "justify_items": null,
            "left": null,
            "margin": null,
            "max_height": null,
            "max_width": null,
            "min_height": null,
            "min_width": null,
            "object_fit": null,
            "object_position": null,
            "order": null,
            "overflow": null,
            "overflow_x": null,
            "overflow_y": null,
            "padding": null,
            "right": null,
            "top": null,
            "visibility": null,
            "width": null
          }
        },
        "aaa1b8b76aa24318a5ef2fc8407585c8": {
          "model_module": "@jupyter-widgets/controls",
          "model_name": "ProgressStyleModel",
          "model_module_version": "1.5.0",
          "state": {
            "_model_module": "@jupyter-widgets/controls",
            "_model_module_version": "1.5.0",
            "_model_name": "ProgressStyleModel",
            "_view_count": null,
            "_view_module": "@jupyter-widgets/base",
            "_view_module_version": "1.2.0",
            "_view_name": "StyleView",
            "bar_color": null,
            "description_width": ""
          }
        },
        "1235541afcae4a20bf0103d2ba829c8a": {
          "model_module": "@jupyter-widgets/base",
          "model_name": "LayoutModel",
          "model_module_version": "1.2.0",
          "state": {
            "_model_module": "@jupyter-widgets/base",
            "_model_module_version": "1.2.0",
            "_model_name": "LayoutModel",
            "_view_count": null,
            "_view_module": "@jupyter-widgets/base",
            "_view_module_version": "1.2.0",
            "_view_name": "LayoutView",
            "align_content": null,
            "align_items": null,
            "align_self": null,
            "border": null,
            "bottom": null,
            "display": null,
            "flex": null,
            "flex_flow": null,
            "grid_area": null,
            "grid_auto_columns": null,
            "grid_auto_flow": null,
            "grid_auto_rows": null,
            "grid_column": null,
            "grid_gap": null,
            "grid_row": null,
            "grid_template_areas": null,
            "grid_template_columns": null,
            "grid_template_rows": null,
            "height": null,
            "justify_content": null,
            "justify_items": null,
            "left": null,
            "margin": null,
            "max_height": null,
            "max_width": null,
            "min_height": null,
            "min_width": null,
            "object_fit": null,
            "object_position": null,
            "order": null,
            "overflow": null,
            "overflow_x": null,
            "overflow_y": null,
            "padding": null,
            "right": null,
            "top": null,
            "visibility": null,
            "width": null
          }
        },
        "ca440f16dd664345a9a6c0d48184d3ad": {
          "model_module": "@jupyter-widgets/controls",
          "model_name": "DescriptionStyleModel",
          "model_module_version": "1.5.0",
          "state": {
            "_model_module": "@jupyter-widgets/controls",
            "_model_module_version": "1.5.0",
            "_model_name": "DescriptionStyleModel",
            "_view_count": null,
            "_view_module": "@jupyter-widgets/base",
            "_view_module_version": "1.2.0",
            "_view_name": "StyleView",
            "description_width": ""
          }
        },
        "0488b39f84314b88b8e48804b8e1a702": {
          "model_module": "@jupyter-widgets/controls",
          "model_name": "HBoxModel",
          "model_module_version": "1.5.0",
          "state": {
            "_dom_classes": [],
            "_model_module": "@jupyter-widgets/controls",
            "_model_module_version": "1.5.0",
            "_model_name": "HBoxModel",
            "_view_count": null,
            "_view_module": "@jupyter-widgets/controls",
            "_view_module_version": "1.5.0",
            "_view_name": "HBoxView",
            "box_style": "",
            "children": [
              "IPY_MODEL_821b6edfcb3d44d3a8b7a5572f214ce5",
              "IPY_MODEL_9b87c7eee2eb42289924c47898181fea",
              "IPY_MODEL_9087bbb79e4a489a8cc86c8a1b9fb234"
            ],
            "layout": "IPY_MODEL_51a1980701a74398957ea80ffdc1b5e5"
          }
        },
        "821b6edfcb3d44d3a8b7a5572f214ce5": {
          "model_module": "@jupyter-widgets/controls",
          "model_name": "HTMLModel",
          "model_module_version": "1.5.0",
          "state": {
            "_dom_classes": [],
            "_model_module": "@jupyter-widgets/controls",
            "_model_module_version": "1.5.0",
            "_model_name": "HTMLModel",
            "_view_count": null,
            "_view_module": "@jupyter-widgets/controls",
            "_view_module_version": "1.5.0",
            "_view_name": "HTMLView",
            "description": "",
            "description_tooltip": null,
            "layout": "IPY_MODEL_191453d2535942babbf82d9841f9ad3d",
            "placeholder": "​",
            "style": "IPY_MODEL_7a41abf225f146c98161ffc5bd9833e9",
            "value": "100%"
          }
        },
        "9b87c7eee2eb42289924c47898181fea": {
          "model_module": "@jupyter-widgets/controls",
          "model_name": "FloatProgressModel",
          "model_module_version": "1.5.0",
          "state": {
            "_dom_classes": [],
            "_model_module": "@jupyter-widgets/controls",
            "_model_module_version": "1.5.0",
            "_model_name": "FloatProgressModel",
            "_view_count": null,
            "_view_module": "@jupyter-widgets/controls",
            "_view_module_version": "1.5.0",
            "_view_name": "ProgressView",
            "bar_style": "success",
            "description": "",
            "description_tooltip": null,
            "layout": "IPY_MODEL_7f16d7a117b449189d7b6cd1ee9ee2f5",
            "max": 5,
            "min": 0,
            "orientation": "horizontal",
            "style": "IPY_MODEL_e58448ea686a40fbace3baad822c66e5",
            "value": 5
          }
        },
        "9087bbb79e4a489a8cc86c8a1b9fb234": {
          "model_module": "@jupyter-widgets/controls",
          "model_name": "HTMLModel",
          "model_module_version": "1.5.0",
          "state": {
            "_dom_classes": [],
            "_model_module": "@jupyter-widgets/controls",
            "_model_module_version": "1.5.0",
            "_model_name": "HTMLModel",
            "_view_count": null,
            "_view_module": "@jupyter-widgets/controls",
            "_view_module_version": "1.5.0",
            "_view_name": "HTMLView",
            "description": "",
            "description_tooltip": null,
            "layout": "IPY_MODEL_f922872d9bb04a97b90c21540fc8ff77",
            "placeholder": "​",
            "style": "IPY_MODEL_883b4a4970a748309ca01bb339e2fc34",
            "value": " 5/5 [00:00&lt;00:00, 285.89it/s]"
          }
        },
        "51a1980701a74398957ea80ffdc1b5e5": {
          "model_module": "@jupyter-widgets/base",
          "model_name": "LayoutModel",
          "model_module_version": "1.2.0",
          "state": {
            "_model_module": "@jupyter-widgets/base",
            "_model_module_version": "1.2.0",
            "_model_name": "LayoutModel",
            "_view_count": null,
            "_view_module": "@jupyter-widgets/base",
            "_view_module_version": "1.2.0",
            "_view_name": "LayoutView",
            "align_content": null,
            "align_items": null,
            "align_self": null,
            "border": null,
            "bottom": null,
            "display": null,
            "flex": null,
            "flex_flow": null,
            "grid_area": null,
            "grid_auto_columns": null,
            "grid_auto_flow": null,
            "grid_auto_rows": null,
            "grid_column": null,
            "grid_gap": null,
            "grid_row": null,
            "grid_template_areas": null,
            "grid_template_columns": null,
            "grid_template_rows": null,
            "height": null,
            "justify_content": null,
            "justify_items": null,
            "left": null,
            "margin": null,
            "max_height": null,
            "max_width": null,
            "min_height": null,
            "min_width": null,
            "object_fit": null,
            "object_position": null,
            "order": null,
            "overflow": null,
            "overflow_x": null,
            "overflow_y": null,
            "padding": null,
            "right": null,
            "top": null,
            "visibility": null,
            "width": null
          }
        },
        "191453d2535942babbf82d9841f9ad3d": {
          "model_module": "@jupyter-widgets/base",
          "model_name": "LayoutModel",
          "model_module_version": "1.2.0",
          "state": {
            "_model_module": "@jupyter-widgets/base",
            "_model_module_version": "1.2.0",
            "_model_name": "LayoutModel",
            "_view_count": null,
            "_view_module": "@jupyter-widgets/base",
            "_view_module_version": "1.2.0",
            "_view_name": "LayoutView",
            "align_content": null,
            "align_items": null,
            "align_self": null,
            "border": null,
            "bottom": null,
            "display": null,
            "flex": null,
            "flex_flow": null,
            "grid_area": null,
            "grid_auto_columns": null,
            "grid_auto_flow": null,
            "grid_auto_rows": null,
            "grid_column": null,
            "grid_gap": null,
            "grid_row": null,
            "grid_template_areas": null,
            "grid_template_columns": null,
            "grid_template_rows": null,
            "height": null,
            "justify_content": null,
            "justify_items": null,
            "left": null,
            "margin": null,
            "max_height": null,
            "max_width": null,
            "min_height": null,
            "min_width": null,
            "object_fit": null,
            "object_position": null,
            "order": null,
            "overflow": null,
            "overflow_x": null,
            "overflow_y": null,
            "padding": null,
            "right": null,
            "top": null,
            "visibility": null,
            "width": null
          }
        },
        "7a41abf225f146c98161ffc5bd9833e9": {
          "model_module": "@jupyter-widgets/controls",
          "model_name": "DescriptionStyleModel",
          "model_module_version": "1.5.0",
          "state": {
            "_model_module": "@jupyter-widgets/controls",
            "_model_module_version": "1.5.0",
            "_model_name": "DescriptionStyleModel",
            "_view_count": null,
            "_view_module": "@jupyter-widgets/base",
            "_view_module_version": "1.2.0",
            "_view_name": "StyleView",
            "description_width": ""
          }
        },
        "7f16d7a117b449189d7b6cd1ee9ee2f5": {
          "model_module": "@jupyter-widgets/base",
          "model_name": "LayoutModel",
          "model_module_version": "1.2.0",
          "state": {
            "_model_module": "@jupyter-widgets/base",
            "_model_module_version": "1.2.0",
            "_model_name": "LayoutModel",
            "_view_count": null,
            "_view_module": "@jupyter-widgets/base",
            "_view_module_version": "1.2.0",
            "_view_name": "LayoutView",
            "align_content": null,
            "align_items": null,
            "align_self": null,
            "border": null,
            "bottom": null,
            "display": null,
            "flex": null,
            "flex_flow": null,
            "grid_area": null,
            "grid_auto_columns": null,
            "grid_auto_flow": null,
            "grid_auto_rows": null,
            "grid_column": null,
            "grid_gap": null,
            "grid_row": null,
            "grid_template_areas": null,
            "grid_template_columns": null,
            "grid_template_rows": null,
            "height": null,
            "justify_content": null,
            "justify_items": null,
            "left": null,
            "margin": null,
            "max_height": null,
            "max_width": null,
            "min_height": null,
            "min_width": null,
            "object_fit": null,
            "object_position": null,
            "order": null,
            "overflow": null,
            "overflow_x": null,
            "overflow_y": null,
            "padding": null,
            "right": null,
            "top": null,
            "visibility": null,
            "width": null
          }
        },
        "e58448ea686a40fbace3baad822c66e5": {
          "model_module": "@jupyter-widgets/controls",
          "model_name": "ProgressStyleModel",
          "model_module_version": "1.5.0",
          "state": {
            "_model_module": "@jupyter-widgets/controls",
            "_model_module_version": "1.5.0",
            "_model_name": "ProgressStyleModel",
            "_view_count": null,
            "_view_module": "@jupyter-widgets/base",
            "_view_module_version": "1.2.0",
            "_view_name": "StyleView",
            "bar_color": null,
            "description_width": ""
          }
        },
        "f922872d9bb04a97b90c21540fc8ff77": {
          "model_module": "@jupyter-widgets/base",
          "model_name": "LayoutModel",
          "model_module_version": "1.2.0",
          "state": {
            "_model_module": "@jupyter-widgets/base",
            "_model_module_version": "1.2.0",
            "_model_name": "LayoutModel",
            "_view_count": null,
            "_view_module": "@jupyter-widgets/base",
            "_view_module_version": "1.2.0",
            "_view_name": "LayoutView",
            "align_content": null,
            "align_items": null,
            "align_self": null,
            "border": null,
            "bottom": null,
            "display": null,
            "flex": null,
            "flex_flow": null,
            "grid_area": null,
            "grid_auto_columns": null,
            "grid_auto_flow": null,
            "grid_auto_rows": null,
            "grid_column": null,
            "grid_gap": null,
            "grid_row": null,
            "grid_template_areas": null,
            "grid_template_columns": null,
            "grid_template_rows": null,
            "height": null,
            "justify_content": null,
            "justify_items": null,
            "left": null,
            "margin": null,
            "max_height": null,
            "max_width": null,
            "min_height": null,
            "min_width": null,
            "object_fit": null,
            "object_position": null,
            "order": null,
            "overflow": null,
            "overflow_x": null,
            "overflow_y": null,
            "padding": null,
            "right": null,
            "top": null,
            "visibility": null,
            "width": null
          }
        },
        "883b4a4970a748309ca01bb339e2fc34": {
          "model_module": "@jupyter-widgets/controls",
          "model_name": "DescriptionStyleModel",
          "model_module_version": "1.5.0",
          "state": {
            "_model_module": "@jupyter-widgets/controls",
            "_model_module_version": "1.5.0",
            "_model_name": "DescriptionStyleModel",
            "_view_count": null,
            "_view_module": "@jupyter-widgets/base",
            "_view_module_version": "1.2.0",
            "_view_name": "StyleView",
            "description_width": ""
          }
        }
      }
    },
    "accelerator": "GPU"
  },
  "cells": [
    {
      "cell_type": "markdown",
      "metadata": {
        "id": "view-in-github",
        "colab_type": "text"
      },
      "source": [
        "<a href=\"https://colab.research.google.com/github/OverCat2000/text_classification_cnn_rnn_lstm/blob/main/cnn_text_classifier.ipynb\" target=\"_parent\"><img src=\"https://colab.research.google.com/assets/colab-badge.svg\" alt=\"Open In Colab\"/></a>"
      ]
    },
    {
      "cell_type": "code",
      "source": [
        "import gensim\n",
        "import pathlib\n",
        "import glob\n",
        "import os\n",
        "from random import shuffle\n",
        "import pickle\n",
        "from tqdm.auto import tqdm\n",
        "\n",
        "from nltk.tokenize import TreebankWordTokenizer\n",
        "\n",
        "import numpy as np\n",
        "\n",
        "import torch\n",
        "from torch.nn.utils.rnn import pad_sequence\n",
        "from torch.utils.data import DataLoader, TensorDataset\n",
        "import torch.nn as nn\n",
        "\n",
        "from google.colab import drive\n",
        "drive.mount('/content/drive')"
      ],
      "metadata": {
        "id": "0XEbzqDE2OO4",
        "colab": {
          "base_uri": "https://localhost:8080/"
        },
        "outputId": "f273bc9f-1c0f-45bf-b3cf-b24f99e98533"
      },
      "execution_count": 1,
      "outputs": [
        {
          "output_type": "stream",
          "name": "stdout",
          "text": [
            "Drive already mounted at /content/drive; to attempt to forcibly remount, call drive.mount(\"/content/drive\", force_remount=True).\n"
          ]
        }
      ]
    },
    {
      "cell_type": "code",
      "source": [
        "!git lfs install\n",
        "\n",
        "!git clone https://huggingface.co/fse/word2vec-google-news-300"
      ],
      "metadata": {
        "colab": {
          "base_uri": "https://localhost:8080/"
        },
        "id": "Djs4ChEC83CW",
        "outputId": "6f867405-5962-4a2a-cda5-f1f01391464f"
      },
      "execution_count": 2,
      "outputs": [
        {
          "output_type": "stream",
          "name": "stdout",
          "text": [
            "Git LFS initialized.\n",
            "Cloning into 'word2vec-google-news-300'...\n",
            "remote: Enumerating objects: 11, done.\u001b[K\n",
            "remote: Total 11 (delta 0), reused 0 (delta 0), pack-reused 11 (from 1)\u001b[K\n",
            "Unpacking objects: 100% (11/11), 1.51 KiB | 773.00 KiB/s, done.\n",
            "Filtering content: 100% (2/2), 3.52 GiB | 48.95 MiB/s, done.\n"
          ]
        }
      ]
    },
    {
      "cell_type": "code",
      "source": [
        "from google.colab import drive\n",
        "drive.mount('/content/drive')\n",
        "\n",
        "!cp -r /content/word2vec-google-news-300/ /content/drive/MyDrive/"
      ],
      "metadata": {
        "colab": {
          "base_uri": "https://localhost:8080/"
        },
        "id": "W21tPCuW04aO",
        "outputId": "0bf6df00-2337-41ca-a628-6fb0ab5f7dc1"
      },
      "execution_count": 3,
      "outputs": [
        {
          "output_type": "stream",
          "name": "stdout",
          "text": [
            "Drive already mounted at /content/drive; to attempt to forcibly remount, call drive.mount(\"/content/drive\", force_remount=True).\n"
          ]
        }
      ]
    },
    {
      "cell_type": "code",
      "source": [
        "!wget https://ai.stanford.edu/~amaas/data/sentiment/aclImdb_v1.tar.gz"
      ],
      "metadata": {
        "colab": {
          "base_uri": "https://localhost:8080/"
        },
        "id": "PRipJlInDiCA",
        "outputId": "ad294ad6-af94-4a10-e05f-361a0caebb83"
      },
      "execution_count": 4,
      "outputs": [
        {
          "output_type": "stream",
          "name": "stdout",
          "text": [
            "--2024-06-19 01:18:10--  https://ai.stanford.edu/~amaas/data/sentiment/aclImdb_v1.tar.gz\n",
            "Resolving ai.stanford.edu (ai.stanford.edu)... 171.64.68.10\n",
            "Connecting to ai.stanford.edu (ai.stanford.edu)|171.64.68.10|:443... connected.\n",
            "HTTP request sent, awaiting response... 200 OK\n",
            "Length: 84125825 (80M) [application/x-gzip]\n",
            "Saving to: ‘aclImdb_v1.tar.gz’\n",
            "\n",
            "aclImdb_v1.tar.gz   100%[===================>]  80.23M  21.1MB/s    in 4.8s    \n",
            "\n",
            "2024-06-19 01:18:15 (16.7 MB/s) - ‘aclImdb_v1.tar.gz’ saved [84125825/84125825]\n",
            "\n"
          ]
        }
      ]
    },
    {
      "cell_type": "code",
      "source": [
        "!gzip -d aclImdb_v1.tar.gz"
      ],
      "metadata": {
        "id": "c1xdy_2mD2ri"
      },
      "execution_count": 5,
      "outputs": []
    },
    {
      "cell_type": "code",
      "source": [
        "!tar -xf aclImdb_v1.tar"
      ],
      "metadata": {
        "collapsed": true,
        "id": "b69LKxLrD-zL"
      },
      "execution_count": 32,
      "outputs": []
    },
    {
      "cell_type": "code",
      "source": [
        "model_path = '/content/drive/MyDrive/word2vec-google-news-300/word2vec-google-news-300.model'\n",
        "\n",
        "test_path = pathlib.Path('aclImdb/test')\n",
        "pos_path = test_path / 'pos'\n",
        "neg_path = test_path / 'neg'\n",
        "drive_path = pathlib.Path('/content/drive/MyDrive/Home')\n",
        "\n",
        "maxlen = 400\n",
        "batch_size = 32\n",
        "embedding_dims = 300\n",
        "filters = 250\n",
        "kernel_size = 3\n",
        "hidden_dims = 250\n",
        "epochs = 2\n",
        "\n",
        "if torch.cuda.is_available():\n",
        "    device = torch.device(\"cuda\")\n",
        "    print(f'There are {torch.cuda.device_count()} GPU(s) available.')\n",
        "    print('Device name:', torch.cuda.get_device_name(0))\n",
        "\n",
        "else:\n",
        "    print('No GPU available, using the CPU instead.')\n",
        "    device = torch.device(\"cpu\")"
      ],
      "metadata": {
        "id": "89uSfS0CEZMw",
        "colab": {
          "base_uri": "https://localhost:8080/"
        },
        "outputId": "10f4a3d3-d943-4486-a1a6-2baa20dbe88a"
      },
      "execution_count": 7,
      "outputs": [
        {
          "output_type": "stream",
          "name": "stdout",
          "text": [
            "There are 1 GPU(s) available.\n",
            "Device name: Tesla T4\n"
          ]
        }
      ]
    },
    {
      "cell_type": "code",
      "source": [
        "def data(file_path):\n",
        "\n",
        "  dataset = []\n",
        "  pos_path = file_path / 'pos'\n",
        "  neg_path = file_path / 'neg'\n",
        "\n",
        "  for filename in glob.glob(os.path.join(pos_path, '*.txt'))[:500]:\n",
        "      with open(filename, 'r') as f:\n",
        "        dataset.append((1, f.read()))\n",
        "\n",
        "  for filename in glob.glob(os.path.join(neg_path, '*.txt'))[:500]:\n",
        "      with open(filename, 'r') as f:\n",
        "        dataset.append((0, f.read()))\n",
        "\n",
        "  shuffle(dataset)\n",
        "\n",
        "  return dataset"
      ],
      "metadata": {
        "collapsed": true,
        "id": "X7NNsGR1Evua"
      },
      "execution_count": 8,
      "outputs": []
    },
    {
      "cell_type": "code",
      "source": [
        "def word2vec(dataset):\n",
        "  model = gensim.models.KeyedVectors.load(model_path)\n",
        "  tokenizer = TreebankWordTokenizer()\n",
        "  word_vec = []\n",
        "\n",
        "  for sample in dataset:\n",
        "\n",
        "    tokens = tokenizer.tokenize(sample[1])\n",
        "    sample_vec = []\n",
        "\n",
        "    for token in tokens:\n",
        "      try:\n",
        "        sample_vec.append(model[token])\n",
        "      except KeyError:\n",
        "        pass\n",
        "\n",
        "    word_vec.append(sample_vec)\n",
        "\n",
        "  return word_vec\n"
      ],
      "metadata": {
        "collapsed": true,
        "id": "Je0nC-9vJepo"
      },
      "execution_count": 9,
      "outputs": []
    },
    {
      "cell_type": "code",
      "source": [
        "def pad_trunc(data):\n",
        "\n",
        "  new_data = []\n",
        "\n",
        "  zero_vec = np.zeros(300)\n",
        "\n",
        "  for sample in tqdm(data):\n",
        "    while len(sample) < 400:\n",
        "      sample.append(zero_vec)\n",
        "\n",
        "    while len(sample) > 400:\n",
        "      sample.pop()\n",
        "\n",
        "    new_data.append(sample)\n",
        "\n",
        "  return new_data"
      ],
      "metadata": {
        "collapsed": true,
        "id": "mxbkcrupXDMK"
      },
      "execution_count": 10,
      "outputs": []
    },
    {
      "cell_type": "code",
      "source": [
        "def Labels(dataset):\n",
        "\n",
        "  labels = []\n",
        "  for sample in dataset:\n",
        "    labels.append(sample[0])\n",
        "  return labels"
      ],
      "metadata": {
        "id": "2wD9dvO4Nszc"
      },
      "execution_count": 11,
      "outputs": []
    },
    {
      "cell_type": "code",
      "source": [
        "def preprocess():\n",
        "  dataset = data(test_path)\n",
        "  word_vec = word2vec(dataset)\n",
        "  labels = Labels(dataset)\n",
        "\n",
        "  train_size = int(len(word_vec) * 0.8)\n",
        "\n",
        "  X_train = word_vec[:train_size]\n",
        "  X_test = word_vec[train_size:]\n",
        "\n",
        "  X_train = pad_trunc(X_train)\n",
        "  X_test = pad_trunc(X_test)\n",
        "\n",
        "  y_train = labels[:train_size]\n",
        "  y_test = labels[train_size:]\n",
        "\n",
        "\n",
        "  return X_train, y_train, X_test, y_test"
      ],
      "metadata": {
        "id": "Ti33VgP04a-0"
      },
      "execution_count": 12,
      "outputs": []
    },
    {
      "cell_type": "code",
      "source": [
        "X_train, y_train, X_test, y_test = preprocess()"
      ],
      "metadata": {
        "colab": {
          "base_uri": "https://localhost:8080/",
          "height": 81,
          "referenced_widgets": [
            "a70d8d68313a4d2d8d565bbe9a134ce9",
            "9b6b9f219f5f4824a5d9c9ee5cbad5bd",
            "ff0634d6fc194abeb801cf4e078be673",
            "0586c70c7312408d9a5f1203a426b25d",
            "74fcff82e3884079a7d05b249936e23e",
            "f7096a30a5d04d448d3314b4acf46d8a",
            "eef20f5141264249be3978f8bf87c827",
            "fb0edbab86d84fab9ff7184d36c3f591",
            "7385b46e97474afeb67c8a0762634dd2",
            "506a0c03805144dc80fb1f46169f5c36",
            "d175c0e291a444be88baa4121dd849ca",
            "5f80e8e57c6247f09c6754d22f1324ca",
            "f603792d77284309acc8db0894e2b73f",
            "53403162c93d4429b54be5f7226bf4ea",
            "7125d0c978824dab989106b0bb7c8364",
            "53f9aa2a410f48fea274a7aac0436b3c",
            "9aaa27f2b9e3462885863654f3c86f5e",
            "c462e064f62e49ac938609b0db6f2133",
            "25cb49335c0947c1bad5e81c324f7b54",
            "36a10f20c4094c72ba11dbe79f986e2e",
            "698f8ba92c5d4dc6b5b42ba55707600a",
            "4c03d007d1274cd1b872adc4b04c7f46"
          ]
        },
        "id": "I2bFivED47ct",
        "outputId": "05d8f973-277e-48fe-c391-315c699a3873"
      },
      "execution_count": 13,
      "outputs": [
        {
          "output_type": "display_data",
          "data": {
            "text/plain": [
              "  0%|          | 0/800 [00:00<?, ?it/s]"
            ],
            "application/vnd.jupyter.widget-view+json": {
              "version_major": 2,
              "version_minor": 0,
              "model_id": "a70d8d68313a4d2d8d565bbe9a134ce9"
            }
          },
          "metadata": {}
        },
        {
          "output_type": "display_data",
          "data": {
            "text/plain": [
              "  0%|          | 0/200 [00:00<?, ?it/s]"
            ],
            "application/vnd.jupyter.widget-view+json": {
              "version_major": 2,
              "version_minor": 0,
              "model_id": "5f80e8e57c6247f09c6754d22f1324ca"
            }
          },
          "metadata": {}
        }
      ]
    },
    {
      "cell_type": "code",
      "source": [
        "X_train = torch.Tensor(np.array(X_train))\n",
        "X_test = torch.Tensor(np.array(X_test))\n",
        "y_train = torch.Tensor(np.array(y_train))\n",
        "y_test = torch.Tensor(np.array(y_test))"
      ],
      "metadata": {
        "id": "7KrwW_Y1vNGD"
      },
      "execution_count": 14,
      "outputs": []
    },
    {
      "cell_type": "code",
      "source": [
        "train_dataloader = DataLoader(TensorDataset(X_train, y_train), batch_size, True)\n",
        "test_dataloader = DataLoader(TensorDataset(X_test, y_test), batch_size, False)"
      ],
      "metadata": {
        "id": "nwmYG8vrjGRI"
      },
      "execution_count": 15,
      "outputs": []
    },
    {
      "cell_type": "code",
      "source": [
        "for X, y in train_dataloader:\n",
        "  print(X.shape)\n",
        "  print(y.shape)\n",
        "  break"
      ],
      "metadata": {
        "id": "GvHgsAAOkkj-",
        "colab": {
          "base_uri": "https://localhost:8080/"
        },
        "outputId": "171fc60a-83d6-448b-c009-1ce193a56fb5"
      },
      "execution_count": 16,
      "outputs": [
        {
          "output_type": "stream",
          "name": "stdout",
          "text": [
            "torch.Size([32, 400, 300])\n",
            "torch.Size([32])\n"
          ]
        }
      ]
    },
    {
      "cell_type": "code",
      "source": [
        "class Convnet(nn.Module):\n",
        "  def __init__(self, input_shape, hidden_units, output_shape, kernel):\n",
        "    super().__init__()\n",
        "\n",
        "    self.block = nn.Sequential(\n",
        "        nn.Conv1d(input_shape, hidden_units, kernel_size=kernel),\n",
        "        nn.ReLU(),\n",
        "        nn.MaxPool1d(2)\n",
        "    )\n",
        "\n",
        "    # self.classifier = nn.Sequential(\n",
        "    #         nn.Flatten(start_dim=1),\n",
        "    #         nn.Linear(in_features=hidden_dims*149, out_features=output_shape),\n",
        "    #         nn.Sigmoid()\n",
        "    #     )\n",
        "\n",
        "    self.flat = nn.Flatten(start_dim=1)\n",
        "    self.fc = nn.Linear(in_features=hidden_units*149, out_features=output_shape)\n",
        "    #self.sigmoid = nn.Sigmoid()\n",
        "\n",
        "\n",
        "  def forward(self, x):\n",
        "    x = self.block(x)\n",
        "    x = self.flat(x)\n",
        "    x = self.fc(x)\n",
        "    #x = self.sigmoid(x)\n",
        "    return x"
      ],
      "metadata": {
        "id": "ta8Tn4hpMzOk"
      },
      "execution_count": 17,
      "outputs": []
    },
    {
      "cell_type": "code",
      "source": [
        "class BinaryAccuracy:\n",
        "    def __init__(self, threshold=0.5):\n",
        "        self.threshold = threshold\n",
        "\n",
        "    def __call__(self, logits, targets):\n",
        "        # Apply sigmoid to logits to get probabilities\n",
        "        probabilities = torch.sigmoid(logits).squeeze(dim=1)\n",
        "        # Convert probabilities to binary predictions\n",
        "        predictions = (probabilities >= self.threshold).float()\n",
        "        # Compare predictions with targets and calculate accuracy\n",
        "        correct = (predictions == targets).float().sum()\n",
        "        accuracy = correct / targets.numel()\n",
        "        return accuracy.item()"
      ],
      "metadata": {
        "id": "hBovoN9u3q8r"
      },
      "execution_count": 18,
      "outputs": []
    },
    {
      "cell_type": "code",
      "source": [
        "cnn = Convnet(maxlen, filters, 1, kernel_size)\n",
        "loss_fn = nn.BCEWithLogitsLoss()\n",
        "optimizer = torch.optim.Adam(params=cnn.parameters(), lr=0.001)\n",
        "accuracy_fn = BinaryAccuracy()\n",
        "cnn.to(device)"
      ],
      "metadata": {
        "id": "tC-yy7E7VLb3",
        "colab": {
          "base_uri": "https://localhost:8080/"
        },
        "outputId": "3f3da701-18c0-4dc3-d6aa-25e14675dfe4"
      },
      "execution_count": 19,
      "outputs": [
        {
          "output_type": "execute_result",
          "data": {
            "text/plain": [
              "Convnet(\n",
              "  (block): Sequential(\n",
              "    (0): Conv1d(400, 250, kernel_size=(3,), stride=(1,))\n",
              "    (1): ReLU()\n",
              "    (2): MaxPool1d(kernel_size=2, stride=2, padding=0, dilation=1, ceil_mode=False)\n",
              "  )\n",
              "  (flat): Flatten(start_dim=1, end_dim=-1)\n",
              "  (fc): Linear(in_features=37250, out_features=1, bias=True)\n",
              ")"
            ]
          },
          "metadata": {},
          "execution_count": 19
        }
      ]
    },
    {
      "cell_type": "code",
      "source": [
        "def train_step(model: torch.nn.Module,\n",
        "               dataloader: torch.utils.data.DataLoader,\n",
        "               loss_fn: torch.nn.Module,\n",
        "               optimizer: torch.optim.Optimizer):\n",
        "    # Put model in train mode\n",
        "    model.train()\n",
        "\n",
        "    # Setup train loss and train accuracy values\n",
        "    train_loss, train_acc = 0, 0\n",
        "\n",
        "    # Loop through data loader data batches\n",
        "    for batch, (X, y) in enumerate(dataloader):\n",
        "        # 1. Forward pass\n",
        "        X = X.to(device)\n",
        "        y = y.to(device)\n",
        "        y_pred = model(X)\n",
        "\n",
        "\n",
        "\n",
        "        # 2. Calculate  and accumulate loss\n",
        "        loss = loss_fn(y_pred.squeeze(1), y)\n",
        "        train_loss += loss.item()\n",
        "\n",
        "        # 3. Optimizer zero grad\n",
        "        optimizer.zero_grad()\n",
        "\n",
        "        # 4. Loss backward\n",
        "        loss.backward()\n",
        "\n",
        "        # 5. Optimizer step\n",
        "        optimizer.step()\n",
        "\n",
        "        # Calculate and accumulate accuracy metric across all batches\n",
        "        train_acc += accuracy_fn(y_pred, y)\n",
        "\n",
        "    # Adjust metrics to get average loss and accuracy per batch\n",
        "    train_loss = train_loss / len(dataloader)\n",
        "    train_acc = train_acc / len(dataloader)\n",
        "    return train_loss, train_acc"
      ],
      "metadata": {
        "id": "MY1CKfsLfiWz"
      },
      "execution_count": 20,
      "outputs": []
    },
    {
      "cell_type": "code",
      "source": [
        "def test_step(model: torch.nn.Module,\n",
        "              dataloader: torch.utils.data.DataLoader,\n",
        "              loss_fn: torch.nn.Module):\n",
        "    # Put model in eval mode\n",
        "    model.eval()\n",
        "\n",
        "    # Setup test loss and test accuracy values\n",
        "    test_loss, test_acc = 0, 0\n",
        "\n",
        "    # Turn on inference context manager\n",
        "    with torch.inference_mode():\n",
        "        # Loop through DataLoader batches\n",
        "        for batch, (X, y) in enumerate(dataloader):\n",
        "            X = X.to(device)\n",
        "            y = y.to(device)\n",
        "            # 1. Forward pass\n",
        "            test_pred_logits = model(X)\n",
        "\n",
        "            # 2. Calculate and accumulate loss\n",
        "            loss = loss_fn(test_pred_logits.squeeze(1), y)\n",
        "            test_loss += loss.item()\n",
        "\n",
        "            # Calculate and accumulate accuracy\n",
        "            test_acc += accuracy_fn(test_pred_logits, y)\n",
        "\n",
        "    # Adjust metrics to get average loss and accuracy per batch\n",
        "    test_loss = test_loss / len(dataloader)\n",
        "    test_acc = test_acc / len(dataloader)\n",
        "    return test_loss, test_acc"
      ],
      "metadata": {
        "id": "1MoF29vAgO_b"
      },
      "execution_count": 21,
      "outputs": []
    },
    {
      "cell_type": "code",
      "source": [
        "def train(model: torch.nn.Module,\n",
        "          train_dataloader: torch.utils.data.DataLoader,\n",
        "          test_dataloader: torch.utils.data.DataLoader,\n",
        "          optimizer: torch.optim.Optimizer,\n",
        "          loss_fn: torch.nn.Module,\n",
        "          epochs: int = 5):\n",
        "\n",
        "    # 2. Create empty results dictionary\n",
        "    results = {\"train_loss\": [],\n",
        "        \"train_acc\": [],\n",
        "        \"test_loss\": [],\n",
        "        \"test_acc\": []\n",
        "    }\n",
        "\n",
        "    # 3. Loop through training and testing steps for a number of epochs\n",
        "    for epoch in tqdm(range(epochs)):\n",
        "        train_loss, train_acc = train_step(model=model,\n",
        "                                           dataloader=train_dataloader,\n",
        "                                           loss_fn=loss_fn,\n",
        "                                           optimizer=optimizer)\n",
        "        test_loss, test_acc = test_step(model=model,\n",
        "            dataloader=test_dataloader,\n",
        "            loss_fn=loss_fn)\n",
        "\n",
        "        # 4. Print out what's happening\n",
        "        print(\n",
        "            f\"Epoch: {epoch+1} | \"\n",
        "            f\"train_loss: {train_loss:.4f} | \"\n",
        "            f\"train_acc: {train_acc:.4f} | \"\n",
        "            f\"test_loss: {test_loss:.4f} | \"\n",
        "            f\"test_acc: {test_acc:.4f}\"\n",
        "        )\n",
        "\n",
        "        # 5. Update results dictionary\n",
        "        results[\"train_loss\"].append(train_loss)\n",
        "        results[\"train_acc\"].append(train_acc)\n",
        "        results[\"test_loss\"].append(test_loss)\n",
        "        results[\"test_acc\"].append(test_acc)\n",
        "\n",
        "    # 6. Return the filled results at the end of the epochs\n",
        "    return results"
      ],
      "metadata": {
        "id": "goEU7a9YgPC3"
      },
      "execution_count": 22,
      "outputs": []
    },
    {
      "cell_type": "code",
      "source": [
        "# Set random seeds\n",
        "torch.manual_seed(42)\n",
        "\n",
        "# Set number of epochs\n",
        "NUM_EPOCHS = 100\n",
        "\n",
        "# Start the timer\n",
        "from timeit import default_timer as timer\n",
        "start_time = timer()\n",
        "\n",
        "# Train model_0\n",
        "model_0_results = train(model=cnn,\n",
        "                        train_dataloader=train_dataloader,\n",
        "                        test_dataloader=test_dataloader,\n",
        "                        optimizer=optimizer,\n",
        "                        loss_fn=loss_fn,\n",
        "                        epochs=NUM_EPOCHS)\n",
        "\n",
        "# End the timer and print out how long it took\n",
        "end_time = timer()\n",
        "print(f\"Total training time: {end_time-start_time:.3f} seconds\")"
      ],
      "metadata": {
        "id": "NgD_iESihOop",
        "colab": {
          "base_uri": "https://localhost:8080/",
          "height": 1000,
          "referenced_widgets": [
            "130ee5d26e5d499abcb665fb56f4f55d",
            "32e5a68abd1c415280ea8a13fc31eb0f",
            "9bc2c84da6c440c8a4eea89977e64811",
            "53d4b7a807fa4bef8a6e9bb3078a100a",
            "3ba41fc4343144a5bd50d49c2d4bafd7",
            "f22e4c5d736544298651dc936752eece",
            "1ca0fa64ddba491794d008975f59835c",
            "814f1588f8984aa0844adc749e213cce",
            "aaa1b8b76aa24318a5ef2fc8407585c8",
            "1235541afcae4a20bf0103d2ba829c8a",
            "ca440f16dd664345a9a6c0d48184d3ad"
          ]
        },
        "outputId": "4c8c7d64-2920-4ba3-8689-68a07c2dda4b"
      },
      "execution_count": 23,
      "outputs": [
        {
          "output_type": "display_data",
          "data": {
            "text/plain": [
              "  0%|          | 0/100 [00:00<?, ?it/s]"
            ],
            "application/vnd.jupyter.widget-view+json": {
              "version_major": 2,
              "version_minor": 0,
              "model_id": "130ee5d26e5d499abcb665fb56f4f55d"
            }
          },
          "metadata": {}
        },
        {
          "output_type": "stream",
          "name": "stdout",
          "text": [
            "Epoch: 1 | train_loss: 0.7060 | train_acc: 0.5262 | test_loss: 0.7108 | test_acc: 0.4866\n",
            "Epoch: 2 | train_loss: 0.5516 | train_acc: 0.8387 | test_loss: 0.6623 | test_acc: 0.5938\n",
            "Epoch: 3 | train_loss: 0.3681 | train_acc: 0.9250 | test_loss: 0.6870 | test_acc: 0.5536\n",
            "Epoch: 4 | train_loss: 0.2176 | train_acc: 0.9775 | test_loss: 0.6230 | test_acc: 0.6116\n",
            "Epoch: 5 | train_loss: 0.1135 | train_acc: 1.0000 | test_loss: 0.6239 | test_acc: 0.6875\n",
            "Epoch: 6 | train_loss: 0.0633 | train_acc: 1.0000 | test_loss: 0.6065 | test_acc: 0.7009\n",
            "Epoch: 7 | train_loss: 0.0382 | train_acc: 1.0000 | test_loss: 0.6080 | test_acc: 0.6786\n",
            "Epoch: 8 | train_loss: 0.0258 | train_acc: 1.0000 | test_loss: 0.6692 | test_acc: 0.6607\n",
            "Epoch: 9 | train_loss: 0.0191 | train_acc: 1.0000 | test_loss: 0.6134 | test_acc: 0.6830\n",
            "Epoch: 10 | train_loss: 0.0142 | train_acc: 1.0000 | test_loss: 0.6221 | test_acc: 0.6830\n",
            "Epoch: 11 | train_loss: 0.0108 | train_acc: 1.0000 | test_loss: 0.6577 | test_acc: 0.6830\n",
            "Epoch: 12 | train_loss: 0.0089 | train_acc: 1.0000 | test_loss: 0.6492 | test_acc: 0.7054\n",
            "Epoch: 13 | train_loss: 0.0072 | train_acc: 1.0000 | test_loss: 0.6360 | test_acc: 0.6964\n",
            "Epoch: 14 | train_loss: 0.0061 | train_acc: 1.0000 | test_loss: 0.6409 | test_acc: 0.6964\n",
            "Epoch: 15 | train_loss: 0.0052 | train_acc: 1.0000 | test_loss: 0.6482 | test_acc: 0.6920\n",
            "Epoch: 16 | train_loss: 0.0045 | train_acc: 1.0000 | test_loss: 0.6440 | test_acc: 0.6920\n",
            "Epoch: 17 | train_loss: 0.0039 | train_acc: 1.0000 | test_loss: 0.6517 | test_acc: 0.6920\n",
            "Epoch: 18 | train_loss: 0.0034 | train_acc: 1.0000 | test_loss: 0.6743 | test_acc: 0.7054\n",
            "Epoch: 19 | train_loss: 0.0031 | train_acc: 1.0000 | test_loss: 0.6586 | test_acc: 0.6964\n",
            "Epoch: 20 | train_loss: 0.0028 | train_acc: 1.0000 | test_loss: 0.6595 | test_acc: 0.6964\n",
            "Epoch: 21 | train_loss: 0.0025 | train_acc: 1.0000 | test_loss: 0.6661 | test_acc: 0.6964\n",
            "Epoch: 22 | train_loss: 0.0022 | train_acc: 1.0000 | test_loss: 0.6654 | test_acc: 0.7009\n",
            "Epoch: 23 | train_loss: 0.0020 | train_acc: 1.0000 | test_loss: 0.6773 | test_acc: 0.6964\n",
            "Epoch: 24 | train_loss: 0.0019 | train_acc: 1.0000 | test_loss: 0.6799 | test_acc: 0.6920\n",
            "Epoch: 25 | train_loss: 0.0017 | train_acc: 1.0000 | test_loss: 0.6863 | test_acc: 0.6920\n",
            "Epoch: 26 | train_loss: 0.0016 | train_acc: 1.0000 | test_loss: 0.6858 | test_acc: 0.6964\n",
            "Epoch: 27 | train_loss: 0.0014 | train_acc: 1.0000 | test_loss: 0.6889 | test_acc: 0.6964\n",
            "Epoch: 28 | train_loss: 0.0013 | train_acc: 1.0000 | test_loss: 0.6825 | test_acc: 0.6920\n",
            "Epoch: 29 | train_loss: 0.0012 | train_acc: 1.0000 | test_loss: 0.7000 | test_acc: 0.6875\n",
            "Epoch: 30 | train_loss: 0.0012 | train_acc: 1.0000 | test_loss: 0.6927 | test_acc: 0.7009\n",
            "Epoch: 31 | train_loss: 0.0011 | train_acc: 1.0000 | test_loss: 0.6967 | test_acc: 0.7054\n",
            "Epoch: 32 | train_loss: 0.0010 | train_acc: 1.0000 | test_loss: 0.7146 | test_acc: 0.6875\n",
            "Epoch: 33 | train_loss: 0.0010 | train_acc: 1.0000 | test_loss: 0.7054 | test_acc: 0.6920\n",
            "Epoch: 34 | train_loss: 0.0009 | train_acc: 1.0000 | test_loss: 0.7109 | test_acc: 0.6920\n",
            "Epoch: 35 | train_loss: 0.0008 | train_acc: 1.0000 | test_loss: 0.7116 | test_acc: 0.6920\n",
            "Epoch: 36 | train_loss: 0.0008 | train_acc: 1.0000 | test_loss: 0.7090 | test_acc: 0.7009\n",
            "Epoch: 37 | train_loss: 0.0007 | train_acc: 1.0000 | test_loss: 0.7137 | test_acc: 0.7054\n",
            "Epoch: 38 | train_loss: 0.0007 | train_acc: 1.0000 | test_loss: 0.7168 | test_acc: 0.7009\n",
            "Epoch: 39 | train_loss: 0.0007 | train_acc: 1.0000 | test_loss: 0.7171 | test_acc: 0.7054\n",
            "Epoch: 40 | train_loss: 0.0006 | train_acc: 1.0000 | test_loss: 0.7182 | test_acc: 0.7009\n",
            "Epoch: 41 | train_loss: 0.0006 | train_acc: 1.0000 | test_loss: 0.7226 | test_acc: 0.7009\n",
            "Epoch: 42 | train_loss: 0.0006 | train_acc: 1.0000 | test_loss: 0.7215 | test_acc: 0.7009\n",
            "Epoch: 43 | train_loss: 0.0005 | train_acc: 1.0000 | test_loss: 0.7268 | test_acc: 0.7009\n",
            "Epoch: 44 | train_loss: 0.0005 | train_acc: 1.0000 | test_loss: 0.7253 | test_acc: 0.6964\n",
            "Epoch: 45 | train_loss: 0.0005 | train_acc: 1.0000 | test_loss: 0.7338 | test_acc: 0.7009\n",
            "Epoch: 46 | train_loss: 0.0005 | train_acc: 1.0000 | test_loss: 0.7308 | test_acc: 0.7009\n",
            "Epoch: 47 | train_loss: 0.0005 | train_acc: 1.0000 | test_loss: 0.7393 | test_acc: 0.7009\n",
            "Epoch: 48 | train_loss: 0.0004 | train_acc: 1.0000 | test_loss: 0.7332 | test_acc: 0.6920\n",
            "Epoch: 49 | train_loss: 0.0004 | train_acc: 1.0000 | test_loss: 0.7424 | test_acc: 0.7009\n",
            "Epoch: 50 | train_loss: 0.0004 | train_acc: 1.0000 | test_loss: 0.7380 | test_acc: 0.7009\n",
            "Epoch: 51 | train_loss: 0.0004 | train_acc: 1.0000 | test_loss: 0.7403 | test_acc: 0.7009\n",
            "Epoch: 52 | train_loss: 0.0004 | train_acc: 1.0000 | test_loss: 0.7403 | test_acc: 0.6920\n",
            "Epoch: 53 | train_loss: 0.0004 | train_acc: 1.0000 | test_loss: 0.7474 | test_acc: 0.7009\n",
            "Epoch: 54 | train_loss: 0.0003 | train_acc: 1.0000 | test_loss: 0.7457 | test_acc: 0.7009\n",
            "Epoch: 55 | train_loss: 0.0003 | train_acc: 1.0000 | test_loss: 0.7557 | test_acc: 0.7009\n",
            "Epoch: 56 | train_loss: 0.0003 | train_acc: 1.0000 | test_loss: 0.7525 | test_acc: 0.6964\n",
            "Epoch: 57 | train_loss: 0.0003 | train_acc: 1.0000 | test_loss: 0.7576 | test_acc: 0.7009\n",
            "Epoch: 58 | train_loss: 0.0003 | train_acc: 1.0000 | test_loss: 0.7551 | test_acc: 0.6964\n",
            "Epoch: 59 | train_loss: 0.0003 | train_acc: 1.0000 | test_loss: 0.7561 | test_acc: 0.6964\n",
            "Epoch: 60 | train_loss: 0.0003 | train_acc: 1.0000 | test_loss: 0.7595 | test_acc: 0.7009\n",
            "Epoch: 61 | train_loss: 0.0003 | train_acc: 1.0000 | test_loss: 0.7608 | test_acc: 0.6964\n",
            "Epoch: 62 | train_loss: 0.0003 | train_acc: 1.0000 | test_loss: 0.7633 | test_acc: 0.7009\n",
            "Epoch: 63 | train_loss: 0.0002 | train_acc: 1.0000 | test_loss: 0.7611 | test_acc: 0.6920\n",
            "Epoch: 64 | train_loss: 0.0002 | train_acc: 1.0000 | test_loss: 0.7670 | test_acc: 0.7009\n",
            "Epoch: 65 | train_loss: 0.0002 | train_acc: 1.0000 | test_loss: 0.7677 | test_acc: 0.6964\n",
            "Epoch: 66 | train_loss: 0.0002 | train_acc: 1.0000 | test_loss: 0.7701 | test_acc: 0.7009\n",
            "Epoch: 67 | train_loss: 0.0002 | train_acc: 1.0000 | test_loss: 0.7713 | test_acc: 0.7009\n",
            "Epoch: 68 | train_loss: 0.0002 | train_acc: 1.0000 | test_loss: 0.7729 | test_acc: 0.7009\n",
            "Epoch: 69 | train_loss: 0.0002 | train_acc: 1.0000 | test_loss: 0.7709 | test_acc: 0.6875\n",
            "Epoch: 70 | train_loss: 0.0002 | train_acc: 1.0000 | test_loss: 0.7748 | test_acc: 0.6964\n",
            "Epoch: 71 | train_loss: 0.0002 | train_acc: 1.0000 | test_loss: 0.7777 | test_acc: 0.7009\n",
            "Epoch: 72 | train_loss: 0.0002 | train_acc: 1.0000 | test_loss: 0.7779 | test_acc: 0.6964\n",
            "Epoch: 73 | train_loss: 0.0002 | train_acc: 1.0000 | test_loss: 0.7784 | test_acc: 0.6920\n",
            "Epoch: 74 | train_loss: 0.0002 | train_acc: 1.0000 | test_loss: 0.7818 | test_acc: 0.6964\n",
            "Epoch: 75 | train_loss: 0.0002 | train_acc: 1.0000 | test_loss: 0.7783 | test_acc: 0.6875\n",
            "Epoch: 76 | train_loss: 0.0002 | train_acc: 1.0000 | test_loss: 0.7884 | test_acc: 0.7009\n",
            "Epoch: 77 | train_loss: 0.0002 | train_acc: 1.0000 | test_loss: 0.7834 | test_acc: 0.6875\n",
            "Epoch: 78 | train_loss: 0.0002 | train_acc: 1.0000 | test_loss: 0.7879 | test_acc: 0.6964\n",
            "Epoch: 79 | train_loss: 0.0002 | train_acc: 1.0000 | test_loss: 0.7897 | test_acc: 0.6964\n",
            "Epoch: 80 | train_loss: 0.0001 | train_acc: 1.0000 | test_loss: 0.7894 | test_acc: 0.6920\n",
            "Epoch: 81 | train_loss: 0.0001 | train_acc: 1.0000 | test_loss: 0.7920 | test_acc: 0.6920\n",
            "Epoch: 82 | train_loss: 0.0001 | train_acc: 1.0000 | test_loss: 0.7917 | test_acc: 0.6875\n",
            "Epoch: 83 | train_loss: 0.0001 | train_acc: 1.0000 | test_loss: 0.7958 | test_acc: 0.7009\n",
            "Epoch: 84 | train_loss: 0.0001 | train_acc: 1.0000 | test_loss: 0.7936 | test_acc: 0.6875\n",
            "Epoch: 85 | train_loss: 0.0001 | train_acc: 1.0000 | test_loss: 0.7985 | test_acc: 0.6920\n",
            "Epoch: 86 | train_loss: 0.0001 | train_acc: 1.0000 | test_loss: 0.7967 | test_acc: 0.6875\n",
            "Epoch: 87 | train_loss: 0.0001 | train_acc: 1.0000 | test_loss: 0.7994 | test_acc: 0.6920\n",
            "Epoch: 88 | train_loss: 0.0001 | train_acc: 1.0000 | test_loss: 0.8024 | test_acc: 0.6964\n",
            "Epoch: 89 | train_loss: 0.0001 | train_acc: 1.0000 | test_loss: 0.8027 | test_acc: 0.6920\n",
            "Epoch: 90 | train_loss: 0.0001 | train_acc: 1.0000 | test_loss: 0.8062 | test_acc: 0.6964\n",
            "Epoch: 91 | train_loss: 0.0001 | train_acc: 1.0000 | test_loss: 0.8036 | test_acc: 0.6875\n",
            "Epoch: 92 | train_loss: 0.0001 | train_acc: 1.0000 | test_loss: 0.8077 | test_acc: 0.6920\n",
            "Epoch: 93 | train_loss: 0.0001 | train_acc: 1.0000 | test_loss: 0.8063 | test_acc: 0.6875\n",
            "Epoch: 94 | train_loss: 0.0001 | train_acc: 1.0000 | test_loss: 0.8081 | test_acc: 0.6875\n",
            "Epoch: 95 | train_loss: 0.0001 | train_acc: 1.0000 | test_loss: 0.8097 | test_acc: 0.6875\n",
            "Epoch: 96 | train_loss: 0.0001 | train_acc: 1.0000 | test_loss: 0.8113 | test_acc: 0.6875\n",
            "Epoch: 97 | train_loss: 0.0001 | train_acc: 1.0000 | test_loss: 0.8122 | test_acc: 0.6875\n",
            "Epoch: 98 | train_loss: 0.0001 | train_acc: 1.0000 | test_loss: 0.8154 | test_acc: 0.6920\n",
            "Epoch: 99 | train_loss: 0.0001 | train_acc: 1.0000 | test_loss: 0.8133 | test_acc: 0.6875\n",
            "Epoch: 100 | train_loss: 0.0001 | train_acc: 1.0000 | test_loss: 0.8160 | test_acc: 0.6875\n",
            "Total training time: 37.809 seconds\n"
          ]
        }
      ]
    },
    {
      "cell_type": "code",
      "source": [
        "def make_predictions(model: torch.nn.Module, data: list):\n",
        "\n",
        "    data = word2vec(data)\n",
        "    data = pad_trunc(data)\n",
        "    data = torch.Tensor(np.array(data))\n",
        "\n",
        "    pred_class = []\n",
        "\n",
        "    model.eval()\n",
        "\n",
        "    with torch.inference_mode():\n",
        "        for sample in data:\n",
        "            sample = torch.unsqueeze(sample, dim=0)\n",
        "            sample = sample.to(device)\n",
        "\n",
        "            pred_logits = model(sample)\n",
        "\n",
        "            pred_probs = torch.sigmoid(pred_logits)\n",
        "\n",
        "            if pred_probs >= 0.5:\n",
        "                pred_class.append(1)\n",
        "            else:\n",
        "                pred_class.append(0)\n",
        "\n",
        "    return pred_class"
      ],
      "metadata": {
        "id": "PMt7KeDihTeF"
      },
      "execution_count": 28,
      "outputs": []
    },
    {
      "cell_type": "code",
      "source": [
        "sample = data(test_path)[5:10]"
      ],
      "metadata": {
        "id": "QfPNdHpq7uTj"
      },
      "execution_count": 29,
      "outputs": []
    },
    {
      "cell_type": "code",
      "source": [
        "[sample[i][0] for i in range(len(sample))]"
      ],
      "metadata": {
        "colab": {
          "base_uri": "https://localhost:8080/"
        },
        "id": "qkfbfPoN82GK",
        "outputId": "1f2235e1-0eb9-434b-e462-55c5d1512319"
      },
      "execution_count": 30,
      "outputs": [
        {
          "output_type": "execute_result",
          "data": {
            "text/plain": [
              "[1, 0, 1, 0, 0]"
            ]
          },
          "metadata": {},
          "execution_count": 30
        }
      ]
    },
    {
      "cell_type": "code",
      "source": [
        "make_predictions(cnn, sample)"
      ],
      "metadata": {
        "id": "i_4IS2pB9oML",
        "colab": {
          "base_uri": "https://localhost:8080/",
          "height": 67,
          "referenced_widgets": [
            "0488b39f84314b88b8e48804b8e1a702",
            "821b6edfcb3d44d3a8b7a5572f214ce5",
            "9b87c7eee2eb42289924c47898181fea",
            "9087bbb79e4a489a8cc86c8a1b9fb234",
            "51a1980701a74398957ea80ffdc1b5e5",
            "191453d2535942babbf82d9841f9ad3d",
            "7a41abf225f146c98161ffc5bd9833e9",
            "7f16d7a117b449189d7b6cd1ee9ee2f5",
            "e58448ea686a40fbace3baad822c66e5",
            "f922872d9bb04a97b90c21540fc8ff77",
            "883b4a4970a748309ca01bb339e2fc34"
          ]
        },
        "outputId": "41e95e5a-9afe-4e64-9ac3-a927a5e4541d"
      },
      "execution_count": 31,
      "outputs": [
        {
          "output_type": "display_data",
          "data": {
            "text/plain": [
              "  0%|          | 0/5 [00:00<?, ?it/s]"
            ],
            "application/vnd.jupyter.widget-view+json": {
              "version_major": 2,
              "version_minor": 0,
              "model_id": "0488b39f84314b88b8e48804b8e1a702"
            }
          },
          "metadata": {}
        },
        {
          "output_type": "execute_result",
          "data": {
            "text/plain": [
              "[1, 0, 1, 0, 0]"
            ]
          },
          "metadata": {},
          "execution_count": 31
        }
      ]
    },
    {
      "cell_type": "code",
      "source": [],
      "metadata": {
        "id": "1ouG3msf-crV"
      },
      "execution_count": null,
      "outputs": []
    }
  ]
}