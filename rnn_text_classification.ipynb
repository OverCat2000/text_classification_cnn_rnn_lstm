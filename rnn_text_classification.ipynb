{
  "nbformat": 4,
  "nbformat_minor": 0,
  "metadata": {
    "colab": {
      "provenance": [],
      "gpuType": "T4",
      "authorship_tag": "ABX9TyN6C2ZbRfu6wzpkAXpS+nfv",
      "include_colab_link": true
    },
    "kernelspec": {
      "name": "python3",
      "display_name": "Python 3"
    },
    "language_info": {
      "name": "python"
    },
    "accelerator": "GPU",
    "widgets": {
      "application/vnd.jupyter.widget-state+json": {
        "a21885e53a1345f88a621574d3e949ba": {
          "model_module": "@jupyter-widgets/controls",
          "model_name": "HBoxModel",
          "model_module_version": "1.5.0",
          "state": {
            "_dom_classes": [],
            "_model_module": "@jupyter-widgets/controls",
            "_model_module_version": "1.5.0",
            "_model_name": "HBoxModel",
            "_view_count": null,
            "_view_module": "@jupyter-widgets/controls",
            "_view_module_version": "1.5.0",
            "_view_name": "HBoxView",
            "box_style": "",
            "children": [
              "IPY_MODEL_38f5310a685943a7b12eb301bbf0bbce",
              "IPY_MODEL_208d284e8dc549c4852a6f55befd5bf2",
              "IPY_MODEL_cb219ad04e9c4b9091e085ac41c0936a"
            ],
            "layout": "IPY_MODEL_11c088f7af304ee29b5e646be0c8c774"
          }
        },
        "38f5310a685943a7b12eb301bbf0bbce": {
          "model_module": "@jupyter-widgets/controls",
          "model_name": "HTMLModel",
          "model_module_version": "1.5.0",
          "state": {
            "_dom_classes": [],
            "_model_module": "@jupyter-widgets/controls",
            "_model_module_version": "1.5.0",
            "_model_name": "HTMLModel",
            "_view_count": null,
            "_view_module": "@jupyter-widgets/controls",
            "_view_module_version": "1.5.0",
            "_view_name": "HTMLView",
            "description": "",
            "description_tooltip": null,
            "layout": "IPY_MODEL_fabf53c4c37c472c87aa567bb5a7a7b1",
            "placeholder": "​",
            "style": "IPY_MODEL_8bb534fb70b8414aab65acc8265c6b9f",
            "value": "100%"
          }
        },
        "208d284e8dc549c4852a6f55befd5bf2": {
          "model_module": "@jupyter-widgets/controls",
          "model_name": "FloatProgressModel",
          "model_module_version": "1.5.0",
          "state": {
            "_dom_classes": [],
            "_model_module": "@jupyter-widgets/controls",
            "_model_module_version": "1.5.0",
            "_model_name": "FloatProgressModel",
            "_view_count": null,
            "_view_module": "@jupyter-widgets/controls",
            "_view_module_version": "1.5.0",
            "_view_name": "ProgressView",
            "bar_style": "success",
            "description": "",
            "description_tooltip": null,
            "layout": "IPY_MODEL_85ccfcfb32464798875c408769bb0311",
            "max": 100,
            "min": 0,
            "orientation": "horizontal",
            "style": "IPY_MODEL_9ac541a380a64d1f98a4dc2bfec63c44",
            "value": 100
          }
        },
        "cb219ad04e9c4b9091e085ac41c0936a": {
          "model_module": "@jupyter-widgets/controls",
          "model_name": "HTMLModel",
          "model_module_version": "1.5.0",
          "state": {
            "_dom_classes": [],
            "_model_module": "@jupyter-widgets/controls",
            "_model_module_version": "1.5.0",
            "_model_name": "HTMLModel",
            "_view_count": null,
            "_view_module": "@jupyter-widgets/controls",
            "_view_module_version": "1.5.0",
            "_view_name": "HTMLView",
            "description": "",
            "description_tooltip": null,
            "layout": "IPY_MODEL_8e78fca0b6d64a4595f764f37e1eb18b",
            "placeholder": "​",
            "style": "IPY_MODEL_528bc91ee64e4708ab3110fe1ea2508b",
            "value": " 100/100 [20:59&lt;00:00, 12.45s/it]"
          }
        },
        "11c088f7af304ee29b5e646be0c8c774": {
          "model_module": "@jupyter-widgets/base",
          "model_name": "LayoutModel",
          "model_module_version": "1.2.0",
          "state": {
            "_model_module": "@jupyter-widgets/base",
            "_model_module_version": "1.2.0",
            "_model_name": "LayoutModel",
            "_view_count": null,
            "_view_module": "@jupyter-widgets/base",
            "_view_module_version": "1.2.0",
            "_view_name": "LayoutView",
            "align_content": null,
            "align_items": null,
            "align_self": null,
            "border": null,
            "bottom": null,
            "display": null,
            "flex": null,
            "flex_flow": null,
            "grid_area": null,
            "grid_auto_columns": null,
            "grid_auto_flow": null,
            "grid_auto_rows": null,
            "grid_column": null,
            "grid_gap": null,
            "grid_row": null,
            "grid_template_areas": null,
            "grid_template_columns": null,
            "grid_template_rows": null,
            "height": null,
            "justify_content": null,
            "justify_items": null,
            "left": null,
            "margin": null,
            "max_height": null,
            "max_width": null,
            "min_height": null,
            "min_width": null,
            "object_fit": null,
            "object_position": null,
            "order": null,
            "overflow": null,
            "overflow_x": null,
            "overflow_y": null,
            "padding": null,
            "right": null,
            "top": null,
            "visibility": null,
            "width": null
          }
        },
        "fabf53c4c37c472c87aa567bb5a7a7b1": {
          "model_module": "@jupyter-widgets/base",
          "model_name": "LayoutModel",
          "model_module_version": "1.2.0",
          "state": {
            "_model_module": "@jupyter-widgets/base",
            "_model_module_version": "1.2.0",
            "_model_name": "LayoutModel",
            "_view_count": null,
            "_view_module": "@jupyter-widgets/base",
            "_view_module_version": "1.2.0",
            "_view_name": "LayoutView",
            "align_content": null,
            "align_items": null,
            "align_self": null,
            "border": null,
            "bottom": null,
            "display": null,
            "flex": null,
            "flex_flow": null,
            "grid_area": null,
            "grid_auto_columns": null,
            "grid_auto_flow": null,
            "grid_auto_rows": null,
            "grid_column": null,
            "grid_gap": null,
            "grid_row": null,
            "grid_template_areas": null,
            "grid_template_columns": null,
            "grid_template_rows": null,
            "height": null,
            "justify_content": null,
            "justify_items": null,
            "left": null,
            "margin": null,
            "max_height": null,
            "max_width": null,
            "min_height": null,
            "min_width": null,
            "object_fit": null,
            "object_position": null,
            "order": null,
            "overflow": null,
            "overflow_x": null,
            "overflow_y": null,
            "padding": null,
            "right": null,
            "top": null,
            "visibility": null,
            "width": null
          }
        },
        "8bb534fb70b8414aab65acc8265c6b9f": {
          "model_module": "@jupyter-widgets/controls",
          "model_name": "DescriptionStyleModel",
          "model_module_version": "1.5.0",
          "state": {
            "_model_module": "@jupyter-widgets/controls",
            "_model_module_version": "1.5.0",
            "_model_name": "DescriptionStyleModel",
            "_view_count": null,
            "_view_module": "@jupyter-widgets/base",
            "_view_module_version": "1.2.0",
            "_view_name": "StyleView",
            "description_width": ""
          }
        },
        "85ccfcfb32464798875c408769bb0311": {
          "model_module": "@jupyter-widgets/base",
          "model_name": "LayoutModel",
          "model_module_version": "1.2.0",
          "state": {
            "_model_module": "@jupyter-widgets/base",
            "_model_module_version": "1.2.0",
            "_model_name": "LayoutModel",
            "_view_count": null,
            "_view_module": "@jupyter-widgets/base",
            "_view_module_version": "1.2.0",
            "_view_name": "LayoutView",
            "align_content": null,
            "align_items": null,
            "align_self": null,
            "border": null,
            "bottom": null,
            "display": null,
            "flex": null,
            "flex_flow": null,
            "grid_area": null,
            "grid_auto_columns": null,
            "grid_auto_flow": null,
            "grid_auto_rows": null,
            "grid_column": null,
            "grid_gap": null,
            "grid_row": null,
            "grid_template_areas": null,
            "grid_template_columns": null,
            "grid_template_rows": null,
            "height": null,
            "justify_content": null,
            "justify_items": null,
            "left": null,
            "margin": null,
            "max_height": null,
            "max_width": null,
            "min_height": null,
            "min_width": null,
            "object_fit": null,
            "object_position": null,
            "order": null,
            "overflow": null,
            "overflow_x": null,
            "overflow_y": null,
            "padding": null,
            "right": null,
            "top": null,
            "visibility": null,
            "width": null
          }
        },
        "9ac541a380a64d1f98a4dc2bfec63c44": {
          "model_module": "@jupyter-widgets/controls",
          "model_name": "ProgressStyleModel",
          "model_module_version": "1.5.0",
          "state": {
            "_model_module": "@jupyter-widgets/controls",
            "_model_module_version": "1.5.0",
            "_model_name": "ProgressStyleModel",
            "_view_count": null,
            "_view_module": "@jupyter-widgets/base",
            "_view_module_version": "1.2.0",
            "_view_name": "StyleView",
            "bar_color": null,
            "description_width": ""
          }
        },
        "8e78fca0b6d64a4595f764f37e1eb18b": {
          "model_module": "@jupyter-widgets/base",
          "model_name": "LayoutModel",
          "model_module_version": "1.2.0",
          "state": {
            "_model_module": "@jupyter-widgets/base",
            "_model_module_version": "1.2.0",
            "_model_name": "LayoutModel",
            "_view_count": null,
            "_view_module": "@jupyter-widgets/base",
            "_view_module_version": "1.2.0",
            "_view_name": "LayoutView",
            "align_content": null,
            "align_items": null,
            "align_self": null,
            "border": null,
            "bottom": null,
            "display": null,
            "flex": null,
            "flex_flow": null,
            "grid_area": null,
            "grid_auto_columns": null,
            "grid_auto_flow": null,
            "grid_auto_rows": null,
            "grid_column": null,
            "grid_gap": null,
            "grid_row": null,
            "grid_template_areas": null,
            "grid_template_columns": null,
            "grid_template_rows": null,
            "height": null,
            "justify_content": null,
            "justify_items": null,
            "left": null,
            "margin": null,
            "max_height": null,
            "max_width": null,
            "min_height": null,
            "min_width": null,
            "object_fit": null,
            "object_position": null,
            "order": null,
            "overflow": null,
            "overflow_x": null,
            "overflow_y": null,
            "padding": null,
            "right": null,
            "top": null,
            "visibility": null,
            "width": null
          }
        },
        "528bc91ee64e4708ab3110fe1ea2508b": {
          "model_module": "@jupyter-widgets/controls",
          "model_name": "DescriptionStyleModel",
          "model_module_version": "1.5.0",
          "state": {
            "_model_module": "@jupyter-widgets/controls",
            "_model_module_version": "1.5.0",
            "_model_name": "DescriptionStyleModel",
            "_view_count": null,
            "_view_module": "@jupyter-widgets/base",
            "_view_module_version": "1.2.0",
            "_view_name": "StyleView",
            "description_width": ""
          }
        }
      }
    }
  },
  "cells": [
    {
      "cell_type": "markdown",
      "metadata": {
        "id": "view-in-github",
        "colab_type": "text"
      },
      "source": [
        "<a href=\"https://colab.research.google.com/github/OverCat2000/text_classification_cnn_rnn_lstm/blob/main/rnn_text_classification.ipynb\" target=\"_parent\"><img src=\"https://colab.research.google.com/assets/colab-badge.svg\" alt=\"Open In Colab\"/></a>"
      ]
    },
    {
      "cell_type": "code",
      "execution_count": 1,
      "metadata": {
        "id": "7RvNHbzcL7aa",
        "colab": {
          "base_uri": "https://localhost:8080/"
        },
        "outputId": "102943bf-fde4-49db-ba82-4ac295dcc92f"
      },
      "outputs": [
        {
          "output_type": "stream",
          "name": "stdout",
          "text": [
            "Mounted at /content/drive\n"
          ]
        }
      ],
      "source": [
        "import gensim\n",
        "import pathlib\n",
        "import glob\n",
        "import os\n",
        "from random import shuffle\n",
        "import pickle\n",
        "from tqdm.auto import tqdm\n",
        "\n",
        "from nltk.tokenize import TreebankWordTokenizer\n",
        "\n",
        "import numpy as np\n",
        "import pandas as pd\n",
        "\n",
        "import torch\n",
        "from torch.nn.utils.rnn import pad_sequence\n",
        "from torch.utils.data import DataLoader, TensorDataset\n",
        "import torch.nn as nn\n",
        "\n",
        "from google.colab import drive\n",
        "drive.mount('/content/drive')"
      ]
    },
    {
      "cell_type": "code",
      "source": [
        "!wget https://ai.stanford.edu/~amaas/data/sentiment/aclImdb_v1.tar.gz\n",
        "!tar -xf aclImdb_v1.tar.gz"
      ],
      "metadata": {
        "id": "8IoccQC9sxC7",
        "colab": {
          "base_uri": "https://localhost:8080/"
        },
        "outputId": "0619297b-8136-4a87-e895-fd62d39527db"
      },
      "execution_count": 15,
      "outputs": [
        {
          "output_type": "stream",
          "name": "stdout",
          "text": [
            "--2024-06-19 16:03:36--  https://ai.stanford.edu/~amaas/data/sentiment/aclImdb_v1.tar.gz\n",
            "Resolving ai.stanford.edu (ai.stanford.edu)... 171.64.68.10\n",
            "Connecting to ai.stanford.edu (ai.stanford.edu)|171.64.68.10|:443... connected.\n",
            "HTTP request sent, awaiting response... 200 OK\n",
            "Length: 84125825 (80M) [application/x-gzip]\n",
            "Saving to: ‘aclImdb_v1.tar.gz’\n",
            "\n",
            "aclImdb_v1.tar.gz   100%[===================>]  80.23M  14.1MB/s    in 5.7s    \n",
            "\n",
            "2024-06-19 16:03:42 (14.0 MB/s) - ‘aclImdb_v1.tar.gz’ saved [84125825/84125825]\n",
            "\n"
          ]
        }
      ]
    },
    {
      "cell_type": "code",
      "source": [
        "model_path = '/content/drive/MyDrive/word2vec-google-news-300/word2vec-google-news-300.model'\n",
        "\n",
        "train_path = pathlib.Path('aclImdb/train')\n",
        "pos_path = train_path / 'pos'\n",
        "neg_path = train_path / 'neg'\n",
        "\n",
        "fixed_len = 600\n",
        "batch_size = 32\n",
        "embedding_dims = 300\n",
        "filters = 250\n",
        "kernel_size = 3\n",
        "hidden_dims = 250\n",
        "epochs = 2\n",
        "\n",
        "if torch.cuda.is_available():\n",
        "    device = torch.device(\"cuda\")\n",
        "    print(f'There are {torch.cuda.device_count()} GPU(s) available.')\n",
        "    print('Device name:', torch.cuda.get_device_name(0))\n",
        "\n",
        "else:\n",
        "    print('No GPU available, using the CPU instead.')\n",
        "    device = torch.device(\"cpu\")"
      ],
      "metadata": {
        "colab": {
          "base_uri": "https://localhost:8080/"
        },
        "id": "bOeQ2Iz-xwN0",
        "outputId": "88aeb6b1-29ff-47fd-9251-7ca76e472cbf"
      },
      "execution_count": 17,
      "outputs": [
        {
          "output_type": "stream",
          "name": "stdout",
          "text": [
            "There are 1 GPU(s) available.\n",
            "Device name: Tesla T4\n"
          ]
        }
      ]
    },
    {
      "cell_type": "code",
      "source": [
        "# model = gensim.models.KeyedVectors.load(model_path)"
      ],
      "metadata": {
        "id": "0j55lnZTABsG"
      },
      "execution_count": 18,
      "outputs": []
    },
    {
      "cell_type": "code",
      "source": [
        "def data(file_path):\n",
        "\n",
        "  dataset = []\n",
        "  pos_path = file_path / 'pos'\n",
        "  neg_path = file_path / 'neg'\n",
        "\n",
        "  for filename in glob.glob(os.path.join(pos_path, '*.txt')):\n",
        "      with open(filename, 'r') as f:\n",
        "        dataset.append((1, f.read()))\n",
        "\n",
        "  for filename in glob.glob(os.path.join(neg_path, '*.txt')):\n",
        "      with open(filename, 'r') as f:\n",
        "        dataset.append((0, f.read()))\n",
        "\n",
        "  shuffle(dataset)\n",
        "\n",
        "  return dataset"
      ],
      "metadata": {
        "id": "G6lRz7SUx15S"
      },
      "execution_count": 22,
      "outputs": []
    },
    {
      "cell_type": "code",
      "source": [
        "dataset = data(train_path)"
      ],
      "metadata": {
        "id": "FEol5fCqx8cp"
      },
      "execution_count": 23,
      "outputs": []
    },
    {
      "cell_type": "code",
      "source": [
        "len(dataset)"
      ],
      "metadata": {
        "colab": {
          "base_uri": "https://localhost:8080/"
        },
        "id": "2Qz5JwALPK8b",
        "outputId": "ffd2b6e2-58ec-4c54-e710-483da010024d"
      },
      "execution_count": 24,
      "outputs": [
        {
          "output_type": "execute_result",
          "data": {
            "text/plain": [
              "25000"
            ]
          },
          "metadata": {},
          "execution_count": 24
        }
      ]
    },
    {
      "cell_type": "code",
      "source": [
        "def vocabulary(dataset):\n",
        "  tokenizer = TreebankWordTokenizer()\n",
        "\n",
        "  max_len = 0\n",
        "  fixed_len = 600\n",
        "  tokenized_texts = []\n",
        "  word2idx = {}\n",
        "\n",
        "  word2idx['<PAD>'] = 0\n",
        "  word2idx['<UNK>'] = 1\n",
        "\n",
        "  idx = 2\n",
        "\n",
        "  for text in dataset:\n",
        "    tokenized_text = tokenizer.tokenize(text[1])\n",
        "    tokenized_texts.append(tokenized_text)\n",
        "\n",
        "    for token in tokenized_text:\n",
        "\n",
        "      if token not in word2idx:\n",
        "        word2idx[token] = idx\n",
        "        idx = idx + 1\n",
        "\n",
        "    max_len = max(max_len, len(tokenized_text))\n",
        "\n",
        "  return max_len, word2idx, tokenized_texts"
      ],
      "metadata": {
        "id": "QryYRU_gvQHX"
      },
      "execution_count": 25,
      "outputs": []
    },
    {
      "cell_type": "code",
      "source": [],
      "metadata": {
        "id": "I7mVAhJEPJ8e"
      },
      "execution_count": 25,
      "outputs": []
    },
    {
      "cell_type": "code",
      "source": [
        "def encoder(fixed_len, tokenized_texts, word2idx):\n",
        "  input_ids = []\n",
        "\n",
        "  for tokenized_text in tokenized_texts:\n",
        "\n",
        "    if len(tokenized_text) < fixed_len:\n",
        "\n",
        "      tokenized_text += ['<PAD>']*(fixed_len - len(tokenized_text))\n",
        "\n",
        "    elif len(tokenized_text) > fixed_len:\n",
        "\n",
        "      tokenized_text = tokenized_text[:fixed_len]\n",
        "\n",
        "    input_id = [word2idx.get(i) for i in tokenized_text]\n",
        "    input_ids.append(input_id)\n",
        "\n",
        "  return np.array(input_ids)"
      ],
      "metadata": {
        "id": "Qt8IwJVI1Hbk"
      },
      "execution_count": 26,
      "outputs": []
    },
    {
      "cell_type": "code",
      "source": [
        "def load_pretrained_vectors(model_path, word2idx):\n",
        "  model = gensim.models.KeyedVectors.load(model_path)\n",
        "  print(\"model loaded\")\n",
        "  d = model.vector_size\n",
        "  embeddings = np.random.uniform(-0.25, 0.25, (len(word2idx), d))\n",
        "  available_count = 0\n",
        "  unavailabel_count = 0\n",
        "\n",
        "  if '<PAD>' in word2idx:\n",
        "    embeddings[word2idx['<PAD>']] = np.zeros(d)\n",
        "\n",
        "  for word, idx in word2idx.items():\n",
        "\n",
        "    try:\n",
        "      pretrained_embedddings = model[word]\n",
        "      available_count += 1\n",
        "      embeddings[idx] = pretrained_embedddings\n",
        "    except KeyError:\n",
        "      unavailabel_count +=1\n",
        "      pass\n",
        "\n",
        "  print(f\"availabel words: {available_count / len(word2idx) * 100}\")\n",
        "\n",
        "  return embeddings"
      ],
      "metadata": {
        "id": "tQlksti46Spa"
      },
      "execution_count": 30,
      "outputs": []
    },
    {
      "cell_type": "code",
      "source": [
        "def Labels(dataset):\n",
        "\n",
        "    labels = []\n",
        "    for sample in dataset:\n",
        "      labels.append(sample[0])\n",
        "    return np.array(labels)"
      ],
      "metadata": {
        "id": "ReW2qBsWGJWY"
      },
      "execution_count": 31,
      "outputs": []
    },
    {
      "cell_type": "code",
      "source": [
        "def main(model_path, dataset):\n",
        "  max_len, word2idx, tokenized_texts = vocabulary(dataset)\n",
        "  input_ids = encoder(fixed_len, tokenized_texts, word2idx)\n",
        "\n",
        "  embeddings = load_pretrained_vectors(model_path, word2idx)\n",
        "  embeddings = torch.tensor(embeddings)\n",
        "\n",
        "  labels = Labels(dataset)\n",
        "  train_size = int(len(input_ids) * 0.8)\n",
        "\n",
        "  X_train = torch.Tensor(input_ids[:train_size])\n",
        "  X_val = torch.Tensor(input_ids[train_size:])\n",
        "\n",
        "  y_train = torch.Tensor(labels[:train_size])\n",
        "  y_val = torch.Tensor(labels[train_size:])\n",
        "\n",
        "  train_dataloader = DataLoader(TensorDataset(X_train, y_train), batch_size, True)\n",
        "  val_dataloader = DataLoader(TensorDataset(X_val, y_val), batch_size, False)\n",
        "\n",
        "  return train_dataloader, val_dataloader, embeddings"
      ],
      "metadata": {
        "id": "he69CHGgzqMc"
      },
      "execution_count": 32,
      "outputs": []
    },
    {
      "cell_type": "code",
      "source": [
        "train_dataloader, val_dataloader, embeddings = main(model_path, dataset)"
      ],
      "metadata": {
        "colab": {
          "base_uri": "https://localhost:8080/"
        },
        "id": "Srbgb6k2GVtB",
        "outputId": "7723148a-b9a0-486f-e41e-d58b72fb648b"
      },
      "execution_count": 33,
      "outputs": [
        {
          "output_type": "stream",
          "name": "stdout",
          "text": [
            "model loaded\n",
            "availabel words: 51.49792462228125\n"
          ]
        }
      ]
    },
    {
      "cell_type": "code",
      "source": [
        "class RNNnet(nn.Module):\n",
        "  def __init__(self, hidden_units, output_shape, kernel, pretrained_embeddings):\n",
        "    super().__init__()\n",
        "\n",
        "    self.vocab_size, self.embed_dim = pretrained_embeddings.shape\n",
        "    self.embedding = nn.Embedding.from_pretrained(pretrained_embeddings, freeze=True)\n",
        "\n",
        "    # self.block = nn.Sequential(\n",
        "    #     nn.Conv1d(self.embed_dim, hidden_units, kernel_size=kernel),\n",
        "    #     nn.ReLU(),\n",
        "    #     nn.MaxPool1d(2)\n",
        "    # )\n",
        "\n",
        "    self.rnn = nn.RNN(input_size=self.embed_dim, hidden_size=hidden_units, batch_first=True, bidirectional=True)\n",
        "\n",
        "\n",
        "\n",
        "    self.flat = nn.Flatten(start_dim=1)\n",
        "    self.fc = nn.Linear(in_features=hidden_units*1200, out_features=output_shape)\n",
        "    #self.sigmoid = nn.Sigmoid()\n",
        "\n",
        "\n",
        "  def forward(self, x):\n",
        "    x = self.embedding(x.int()).float()\n",
        "    x, _ = self.rnn(x)\n",
        "    x = self.flat(x)\n",
        "    x = self.fc(x)\n",
        "    #x = self.sigmoid(x)\n",
        "    return x"
      ],
      "metadata": {
        "id": "3Mqrc9CU7rOL"
      },
      "execution_count": 63,
      "outputs": []
    },
    {
      "cell_type": "code",
      "source": [
        "class BinaryAccuracy:\n",
        "    def __init__(self, threshold=0.5):\n",
        "        self.threshold = threshold\n",
        "\n",
        "    def __call__(self, logits, targets):\n",
        "        # Apply sigmoid to logits to get probabilities\n",
        "        probabilities = torch.sigmoid(logits).squeeze(dim=1)\n",
        "        # Convert probabilities to binary predictions\n",
        "        predictions = (probabilities >= self.threshold).float()\n",
        "        # Compare predictions with targets and calculate accuracy\n",
        "        correct = (predictions == targets).float().sum()\n",
        "        accuracy = correct / targets.numel()\n",
        "        return accuracy.item()"
      ],
      "metadata": {
        "id": "zjMnKvQt7rK6"
      },
      "execution_count": 64,
      "outputs": []
    },
    {
      "cell_type": "code",
      "source": [
        "rnn = RNNnet(filters, 1, kernel_size, embeddings)\n",
        "loss_fn = nn.BCEWithLogitsLoss()\n",
        "optimizer = torch.optim.Adam(params=rnn.parameters(), lr=0.001)\n",
        "accuracy_fn = BinaryAccuracy()\n",
        "rnn.to(device)"
      ],
      "metadata": {
        "colab": {
          "base_uri": "https://localhost:8080/"
        },
        "id": "fD0q9lA8_NJ3",
        "outputId": "806f9396-d8c5-4d84-8178-572bbb8b259f"
      },
      "execution_count": 68,
      "outputs": [
        {
          "output_type": "execute_result",
          "data": {
            "text/plain": [
              "RNNnet(\n",
              "  (embedding): Embedding(150575, 300)\n",
              "  (rnn): RNN(300, 250, batch_first=True, bidirectional=True)\n",
              "  (flat): Flatten(start_dim=1, end_dim=-1)\n",
              "  (fc): Linear(in_features=300000, out_features=1, bias=True)\n",
              ")"
            ]
          },
          "metadata": {},
          "execution_count": 68
        }
      ]
    },
    {
      "cell_type": "code",
      "source": [
        "def train_step(model: torch.nn.Module,\n",
        "               dataloader: torch.utils.data.DataLoader,\n",
        "               loss_fn: torch.nn.Module,\n",
        "               optimizer: torch.optim.Optimizer):\n",
        "    # Put model in train mode\n",
        "    model.train()\n",
        "\n",
        "    # Setup train loss and train accuracy values\n",
        "    train_loss, train_acc = 0, 0\n",
        "\n",
        "    # Loop through data loader data batches\n",
        "    for batch, (X, y) in enumerate(dataloader):\n",
        "        # 1. Forward pass\n",
        "        X = X.to(device)\n",
        "        y = y.to(device)\n",
        "        y_pred = model(X)\n",
        "\n",
        "\n",
        "\n",
        "        # 2. Calculate  and accumulate loss\n",
        "        loss = loss_fn(y_pred.squeeze(1), y)\n",
        "        train_loss += loss.item()\n",
        "\n",
        "        # 3. Optimizer zero grad\n",
        "        optimizer.zero_grad()\n",
        "\n",
        "        # 4. Loss backward\n",
        "        loss.backward()\n",
        "\n",
        "        # 5. Optimizer step\n",
        "        optimizer.step()\n",
        "\n",
        "        # Calculate and accumulate accuracy metric across all batches\n",
        "        train_acc += accuracy_fn(y_pred, y)\n",
        "\n",
        "    # Adjust metrics to get average loss and accuracy per batch\n",
        "    train_loss = train_loss / len(dataloader)\n",
        "    train_acc = train_acc / len(dataloader)\n",
        "    return train_loss, train_acc"
      ],
      "metadata": {
        "id": "_PJ0DVn_E486"
      },
      "execution_count": 69,
      "outputs": []
    },
    {
      "cell_type": "code",
      "source": [
        "def test_step(model: torch.nn.Module,\n",
        "              dataloader: torch.utils.data.DataLoader,\n",
        "              loss_fn: torch.nn.Module):\n",
        "    # Put model in eval mode\n",
        "    model.eval()\n",
        "\n",
        "    # Setup test loss and test accuracy values\n",
        "    test_loss, test_acc = 0, 0\n",
        "\n",
        "    # Turn on inference context manager\n",
        "    with torch.inference_mode():\n",
        "        # Loop through DataLoader batches\n",
        "        for batch, (X, y) in enumerate(dataloader):\n",
        "            X = X.to(device)\n",
        "            y = y.to(device)\n",
        "            # 1. Forward pass\n",
        "            test_pred_logits = model(X)\n",
        "\n",
        "            # 2. Calculate and accumulate loss\n",
        "            loss = loss_fn(test_pred_logits.squeeze(1), y)\n",
        "            test_loss += loss.item()\n",
        "\n",
        "            # Calculate and accumulate accuracy\n",
        "            test_acc += accuracy_fn(test_pred_logits, y)\n",
        "\n",
        "    # Adjust metrics to get average loss and accuracy per batch\n",
        "    test_loss = test_loss / len(dataloader)\n",
        "    test_acc = test_acc / len(dataloader)\n",
        "    return test_loss, test_acc"
      ],
      "metadata": {
        "id": "9TfItmWfMGEQ"
      },
      "execution_count": 70,
      "outputs": []
    },
    {
      "cell_type": "code",
      "source": [
        "def train(model: torch.nn.Module,\n",
        "          train_dataloader: torch.utils.data.DataLoader,\n",
        "          test_dataloader: torch.utils.data.DataLoader,\n",
        "          optimizer: torch.optim.Optimizer,\n",
        "          loss_fn: torch.nn.Module,\n",
        "          epochs: int = 5):\n",
        "\n",
        "    # 2. Create empty results dictionary\n",
        "    results = {\"train_loss\": [],\n",
        "        \"train_acc\": [],\n",
        "        \"test_loss\": [],\n",
        "        \"test_acc\": []\n",
        "    }\n",
        "\n",
        "    # 3. Loop through training and testing steps for a number of epochs\n",
        "    for epoch in tqdm(range(epochs)):\n",
        "        train_loss, train_acc = train_step(model=model,\n",
        "                                           dataloader=train_dataloader,\n",
        "                                           loss_fn=loss_fn,\n",
        "                                           optimizer=optimizer)\n",
        "        test_loss, test_acc = test_step(model=model,\n",
        "            dataloader=test_dataloader,\n",
        "            loss_fn=loss_fn)\n",
        "\n",
        "        # 4. Print out what's happening\n",
        "        print(\n",
        "            f\"Epoch: {epoch+1} | \"\n",
        "            f\"train_loss: {train_loss:.4f} | \"\n",
        "            f\"train_acc: {train_acc:.4f} | \"\n",
        "            f\"test_loss: {test_loss:.4f} | \"\n",
        "            f\"test_acc: {test_acc:.4f}\"\n",
        "        )\n",
        "\n",
        "        # 5. Update results dictionary\n",
        "        results[\"train_loss\"].append(train_loss)\n",
        "        results[\"train_acc\"].append(train_acc)\n",
        "        results[\"test_loss\"].append(test_loss)\n",
        "        results[\"test_acc\"].append(test_acc)\n",
        "\n",
        "    # 6. Return the filled results at the end of the epochs\n",
        "    return results"
      ],
      "metadata": {
        "id": "KCxdApiNMGHg"
      },
      "execution_count": 71,
      "outputs": []
    },
    {
      "cell_type": "code",
      "source": [
        "# Set random seeds\n",
        "torch.manual_seed(42)\n",
        "\n",
        "# Set number of epochs\n",
        "NUM_EPOCHS = 100\n",
        "\n",
        "# Start the timer\n",
        "from timeit import default_timer as timer\n",
        "start_time = timer()\n",
        "\n",
        "# Train model_0\n",
        "model_0_results = train(model=rnn,\n",
        "                        train_dataloader=train_dataloader,\n",
        "                        test_dataloader=val_dataloader,\n",
        "                        optimizer=optimizer,\n",
        "                        loss_fn=loss_fn,\n",
        "                        epochs=NUM_EPOCHS)\n",
        "\n",
        "# End the timer and print out how long it took\n",
        "end_time = timer()\n",
        "print(f\"Total training time: {end_time-start_time:.3f} seconds\")"
      ],
      "metadata": {
        "colab": {
          "base_uri": "https://localhost:8080/",
          "height": 1000,
          "referenced_widgets": [
            "a21885e53a1345f88a621574d3e949ba",
            "38f5310a685943a7b12eb301bbf0bbce",
            "208d284e8dc549c4852a6f55befd5bf2",
            "cb219ad04e9c4b9091e085ac41c0936a",
            "11c088f7af304ee29b5e646be0c8c774",
            "fabf53c4c37c472c87aa567bb5a7a7b1",
            "8bb534fb70b8414aab65acc8265c6b9f",
            "85ccfcfb32464798875c408769bb0311",
            "9ac541a380a64d1f98a4dc2bfec63c44",
            "8e78fca0b6d64a4595f764f37e1eb18b",
            "528bc91ee64e4708ab3110fe1ea2508b"
          ]
        },
        "id": "YqkHj5PYMGKQ",
        "outputId": "1f85cb68-e171-4db9-b6f2-2ccdf323dd3a"
      },
      "execution_count": 73,
      "outputs": [
        {
          "output_type": "display_data",
          "data": {
            "text/plain": [
              "  0%|          | 0/100 [00:00<?, ?it/s]"
            ],
            "application/vnd.jupyter.widget-view+json": {
              "version_major": 2,
              "version_minor": 0,
              "model_id": "a21885e53a1345f88a621574d3e949ba"
            }
          },
          "metadata": {}
        },
        {
          "output_type": "stream",
          "name": "stdout",
          "text": [
            "Epoch: 1 | train_loss: 17.7189 | train_acc: 0.6024 | test_loss: 31.8744 | test_acc: 0.4865\n",
            "Epoch: 2 | train_loss: 15.1633 | train_acc: 0.5024 | test_loss: 7.6943 | test_acc: 0.5026\n",
            "Epoch: 3 | train_loss: 12.4173 | train_acc: 0.5278 | test_loss: 6.4787 | test_acc: 0.5352\n",
            "Epoch: 4 | train_loss: 7.5783 | train_acc: 0.5939 | test_loss: 1.8110 | test_acc: 0.7532\n",
            "Epoch: 5 | train_loss: 5.3940 | train_acc: 0.6508 | test_loss: 2.1120 | test_acc: 0.6943\n",
            "Epoch: 6 | train_loss: 4.5964 | train_acc: 0.6707 | test_loss: 2.1623 | test_acc: 0.7600\n",
            "Epoch: 7 | train_loss: 5.9877 | train_acc: 0.6691 | test_loss: 2.3910 | test_acc: 0.7781\n",
            "Epoch: 8 | train_loss: 3.8154 | train_acc: 0.7155 | test_loss: 1.7865 | test_acc: 0.8067\n",
            "Epoch: 9 | train_loss: 3.7378 | train_acc: 0.7253 | test_loss: 1.7411 | test_acc: 0.8135\n",
            "Epoch: 10 | train_loss: 4.6935 | train_acc: 0.7073 | test_loss: 3.2431 | test_acc: 0.6885\n",
            "Epoch: 11 | train_loss: 4.7368 | train_acc: 0.7161 | test_loss: 5.4152 | test_acc: 0.6447\n",
            "Epoch: 12 | train_loss: 3.5627 | train_acc: 0.7426 | test_loss: 11.8719 | test_acc: 0.5589\n",
            "Epoch: 13 | train_loss: 4.1669 | train_acc: 0.7346 | test_loss: 5.1879 | test_acc: 0.7170\n",
            "Epoch: 14 | train_loss: 3.7796 | train_acc: 0.7441 | test_loss: 3.0507 | test_acc: 0.7801\n",
            "Epoch: 15 | train_loss: 3.2383 | train_acc: 0.7630 | test_loss: 7.7622 | test_acc: 0.6029\n",
            "Epoch: 16 | train_loss: 4.2034 | train_acc: 0.7429 | test_loss: 3.9240 | test_acc: 0.7510\n",
            "Epoch: 17 | train_loss: 3.4737 | train_acc: 0.7607 | test_loss: 11.5390 | test_acc: 0.6009\n",
            "Epoch: 18 | train_loss: 8.3391 | train_acc: 0.6950 | test_loss: 2.3735 | test_acc: 0.7994\n",
            "Epoch: 19 | train_loss: 4.4664 | train_acc: 0.7128 | test_loss: 2.5071 | test_acc: 0.8004\n",
            "Epoch: 20 | train_loss: 4.3292 | train_acc: 0.7318 | test_loss: 9.6847 | test_acc: 0.5808\n",
            "Epoch: 21 | train_loss: 3.0955 | train_acc: 0.7650 | test_loss: 2.3662 | test_acc: 0.7886\n",
            "Epoch: 22 | train_loss: 2.6790 | train_acc: 0.7826 | test_loss: 15.1092 | test_acc: 0.6373\n",
            "Epoch: 23 | train_loss: 12.5110 | train_acc: 0.6340 | test_loss: 4.5515 | test_acc: 0.6955\n",
            "Epoch: 24 | train_loss: 12.5354 | train_acc: 0.5984 | test_loss: 21.9699 | test_acc: 0.5171\n",
            "Epoch: 25 | train_loss: 5.8666 | train_acc: 0.6583 | test_loss: 2.7699 | test_acc: 0.7458\n",
            "Epoch: 26 | train_loss: 5.2247 | train_acc: 0.7056 | test_loss: 2.1899 | test_acc: 0.7948\n",
            "Epoch: 27 | train_loss: 7.5441 | train_acc: 0.6817 | test_loss: 3.3349 | test_acc: 0.7516\n",
            "Epoch: 28 | train_loss: 5.5374 | train_acc: 0.7045 | test_loss: 3.6061 | test_acc: 0.7365\n",
            "Epoch: 29 | train_loss: 4.3452 | train_acc: 0.7338 | test_loss: 3.0214 | test_acc: 0.7864\n",
            "Epoch: 30 | train_loss: 4.5815 | train_acc: 0.7334 | test_loss: 4.0898 | test_acc: 0.7114\n",
            "Epoch: 31 | train_loss: 5.9490 | train_acc: 0.7153 | test_loss: 2.8995 | test_acc: 0.7936\n",
            "Epoch: 32 | train_loss: 5.3283 | train_acc: 0.7379 | test_loss: 3.9230 | test_acc: 0.7739\n",
            "Epoch: 33 | train_loss: 5.3380 | train_acc: 0.7378 | test_loss: 3.7447 | test_acc: 0.7466\n",
            "Epoch: 34 | train_loss: 5.3711 | train_acc: 0.7350 | test_loss: 1.9622 | test_acc: 0.7803\n",
            "Epoch: 35 | train_loss: 5.8090 | train_acc: 0.7248 | test_loss: 14.1716 | test_acc: 0.6188\n",
            "Epoch: 36 | train_loss: 5.6283 | train_acc: 0.7391 | test_loss: 8.4213 | test_acc: 0.5523\n",
            "Epoch: 37 | train_loss: 7.4569 | train_acc: 0.7022 | test_loss: 2.0995 | test_acc: 0.8151\n",
            "Epoch: 38 | train_loss: 8.2723 | train_acc: 0.6928 | test_loss: 4.4882 | test_acc: 0.7040\n",
            "Epoch: 39 | train_loss: 3.5975 | train_acc: 0.7571 | test_loss: 3.1980 | test_acc: 0.7984\n",
            "Epoch: 40 | train_loss: 7.5145 | train_acc: 0.6988 | test_loss: 2.2381 | test_acc: 0.8151\n",
            "Epoch: 41 | train_loss: 4.1596 | train_acc: 0.7377 | test_loss: 5.0961 | test_acc: 0.6959\n",
            "Epoch: 42 | train_loss: 4.4371 | train_acc: 0.7396 | test_loss: 2.6976 | test_acc: 0.8006\n",
            "Epoch: 43 | train_loss: 3.9595 | train_acc: 0.7476 | test_loss: 2.3054 | test_acc: 0.8063\n",
            "Epoch: 44 | train_loss: 3.9818 | train_acc: 0.7489 | test_loss: 2.9990 | test_acc: 0.7910\n",
            "Epoch: 45 | train_loss: 3.5973 | train_acc: 0.7599 | test_loss: 2.8886 | test_acc: 0.7807\n",
            "Epoch: 46 | train_loss: 4.3902 | train_acc: 0.7503 | test_loss: 11.1298 | test_acc: 0.5977\n",
            "Epoch: 47 | train_loss: 4.2042 | train_acc: 0.7509 | test_loss: 1.9905 | test_acc: 0.8029\n",
            "Epoch: 48 | train_loss: 3.9068 | train_acc: 0.7619 | test_loss: 3.9603 | test_acc: 0.7341\n",
            "Epoch: 49 | train_loss: 4.1681 | train_acc: 0.7641 | test_loss: 2.1334 | test_acc: 0.8217\n",
            "Epoch: 50 | train_loss: 3.5516 | train_acc: 0.7708 | test_loss: 6.1290 | test_acc: 0.6990\n",
            "Epoch: 51 | train_loss: 3.2829 | train_acc: 0.7785 | test_loss: 5.4961 | test_acc: 0.7215\n",
            "Epoch: 52 | train_loss: 3.3935 | train_acc: 0.7811 | test_loss: 2.1260 | test_acc: 0.8101\n",
            "Epoch: 53 | train_loss: 2.8206 | train_acc: 0.7935 | test_loss: 5.7117 | test_acc: 0.6933\n",
            "Epoch: 54 | train_loss: 3.9314 | train_acc: 0.7806 | test_loss: 2.8002 | test_acc: 0.7998\n",
            "Epoch: 55 | train_loss: 3.8125 | train_acc: 0.7720 | test_loss: 2.7991 | test_acc: 0.7904\n",
            "Epoch: 56 | train_loss: 3.1195 | train_acc: 0.7973 | test_loss: 5.8224 | test_acc: 0.6710\n",
            "Epoch: 57 | train_loss: 2.7919 | train_acc: 0.8089 | test_loss: 3.0901 | test_acc: 0.8175\n",
            "Epoch: 58 | train_loss: 3.8944 | train_acc: 0.7962 | test_loss: 3.0604 | test_acc: 0.8043\n",
            "Epoch: 59 | train_loss: 3.1302 | train_acc: 0.8100 | test_loss: 7.0214 | test_acc: 0.6965\n",
            "Epoch: 60 | train_loss: 6.2633 | train_acc: 0.7393 | test_loss: 4.7061 | test_acc: 0.7331\n",
            "Epoch: 61 | train_loss: 3.4270 | train_acc: 0.8015 | test_loss: 13.9095 | test_acc: 0.6027\n",
            "Epoch: 62 | train_loss: 2.8267 | train_acc: 0.8265 | test_loss: 4.0257 | test_acc: 0.7604\n",
            "Epoch: 63 | train_loss: 2.8034 | train_acc: 0.8332 | test_loss: 8.4774 | test_acc: 0.7271\n",
            "Epoch: 64 | train_loss: 3.6090 | train_acc: 0.8078 | test_loss: 9.1908 | test_acc: 0.6578\n",
            "Epoch: 65 | train_loss: 3.0677 | train_acc: 0.8183 | test_loss: 3.6884 | test_acc: 0.8016\n",
            "Epoch: 66 | train_loss: 3.8953 | train_acc: 0.8044 | test_loss: 4.4765 | test_acc: 0.7814\n",
            "Epoch: 67 | train_loss: 2.4966 | train_acc: 0.8422 | test_loss: 4.5219 | test_acc: 0.7809\n",
            "Epoch: 68 | train_loss: 4.1172 | train_acc: 0.8013 | test_loss: 4.0505 | test_acc: 0.7996\n",
            "Epoch: 69 | train_loss: 2.6982 | train_acc: 0.8288 | test_loss: 3.5401 | test_acc: 0.8177\n",
            "Epoch: 70 | train_loss: 3.3324 | train_acc: 0.8161 | test_loss: 9.0103 | test_acc: 0.6650\n",
            "Epoch: 71 | train_loss: 4.7163 | train_acc: 0.8018 | test_loss: 7.6015 | test_acc: 0.7237\n",
            "Epoch: 72 | train_loss: 2.5007 | train_acc: 0.8489 | test_loss: 3.0482 | test_acc: 0.8008\n",
            "Epoch: 73 | train_loss: 2.0176 | train_acc: 0.8589 | test_loss: 6.3985 | test_acc: 0.7062\n",
            "Epoch: 74 | train_loss: 3.4333 | train_acc: 0.8323 | test_loss: 13.0310 | test_acc: 0.6777\n",
            "Epoch: 75 | train_loss: 3.2907 | train_acc: 0.8277 | test_loss: 4.0582 | test_acc: 0.8274\n",
            "Epoch: 76 | train_loss: 3.7545 | train_acc: 0.8129 | test_loss: 4.3500 | test_acc: 0.8207\n",
            "Epoch: 77 | train_loss: 3.7924 | train_acc: 0.8228 | test_loss: 2.9767 | test_acc: 0.8135\n",
            "Epoch: 78 | train_loss: 3.6673 | train_acc: 0.8156 | test_loss: 8.5535 | test_acc: 0.6666\n",
            "Epoch: 79 | train_loss: 3.0898 | train_acc: 0.8162 | test_loss: 5.9318 | test_acc: 0.7621\n",
            "Epoch: 80 | train_loss: 3.2211 | train_acc: 0.8216 | test_loss: 3.0010 | test_acc: 0.8127\n",
            "Epoch: 81 | train_loss: 2.4383 | train_acc: 0.8448 | test_loss: 10.4808 | test_acc: 0.6248\n",
            "Epoch: 82 | train_loss: 2.6390 | train_acc: 0.8396 | test_loss: 5.9143 | test_acc: 0.7615\n",
            "Epoch: 83 | train_loss: 2.8111 | train_acc: 0.8421 | test_loss: 5.9388 | test_acc: 0.8053\n",
            "Epoch: 84 | train_loss: 3.3260 | train_acc: 0.8292 | test_loss: 4.3350 | test_acc: 0.8322\n",
            "Epoch: 85 | train_loss: 3.3183 | train_acc: 0.8344 | test_loss: 7.6590 | test_acc: 0.7062\n",
            "Epoch: 86 | train_loss: 3.2498 | train_acc: 0.8302 | test_loss: 11.6247 | test_acc: 0.6318\n",
            "Epoch: 87 | train_loss: 4.8001 | train_acc: 0.7968 | test_loss: 43.7514 | test_acc: 0.5034\n",
            "Epoch: 88 | train_loss: 5.3897 | train_acc: 0.7668 | test_loss: 9.1282 | test_acc: 0.6250\n",
            "Epoch: 89 | train_loss: 3.3349 | train_acc: 0.8067 | test_loss: 5.1319 | test_acc: 0.7291\n",
            "Epoch: 90 | train_loss: 3.0098 | train_acc: 0.8363 | test_loss: 6.1243 | test_acc: 0.7958\n",
            "Epoch: 91 | train_loss: 2.4085 | train_acc: 0.8683 | test_loss: 4.6237 | test_acc: 0.8157\n",
            "Epoch: 92 | train_loss: 2.7131 | train_acc: 0.8510 | test_loss: 5.9753 | test_acc: 0.8149\n",
            "Epoch: 93 | train_loss: 2.8870 | train_acc: 0.8560 | test_loss: 4.0224 | test_acc: 0.8141\n",
            "Epoch: 94 | train_loss: 3.5122 | train_acc: 0.8416 | test_loss: 4.8015 | test_acc: 0.8332\n",
            "Epoch: 95 | train_loss: 4.7037 | train_acc: 0.8256 | test_loss: 4.8185 | test_acc: 0.7687\n",
            "Epoch: 96 | train_loss: 2.8694 | train_acc: 0.8601 | test_loss: 10.6665 | test_acc: 0.7120\n",
            "Epoch: 97 | train_loss: 2.5012 | train_acc: 0.8703 | test_loss: 4.5278 | test_acc: 0.8258\n",
            "Epoch: 98 | train_loss: 3.1343 | train_acc: 0.8499 | test_loss: 3.8860 | test_acc: 0.8240\n",
            "Epoch: 99 | train_loss: 2.9051 | train_acc: 0.8576 | test_loss: 7.8065 | test_acc: 0.7379\n",
            "Epoch: 100 | train_loss: 2.3347 | train_acc: 0.8773 | test_loss: 7.0064 | test_acc: 0.7345\n",
            "Total training time: 1259.964 seconds\n"
          ]
        }
      ]
    },
    {
      "cell_type": "code",
      "source": [
        "def make_predictions(model, data):\n",
        "\n",
        "    pred_class = []\n",
        "\n",
        "    model.eval()\n",
        "\n",
        "    with torch.inference_mode():\n",
        "        for sample in data:\n",
        "            sample = torch.unsqueeze(sample, dim=0)\n",
        "            sample = sample.to(device)\n",
        "\n",
        "            pred_logits = model(sample)\n",
        "\n",
        "            pred_probs = torch.sigmoid(pred_logits)\n",
        "\n",
        "            if pred_probs >= 0.5:\n",
        "                pred_class.append(1)\n",
        "            else:\n",
        "                pred_class.append(0)\n",
        "\n",
        "    return pred_class"
      ],
      "metadata": {
        "id": "Cq8QCWm6MGNI"
      },
      "execution_count": 79,
      "outputs": []
    },
    {
      "cell_type": "code",
      "source": [
        "sample_labels = next(iter(val_dataloader))[1]\n",
        "sample_features = next(iter(val_dataloader))[0]\n",
        "\n",
        "pred = make_predictions(rnn, sample_features)\n",
        "\n",
        "print(pred), print(sample_labels.int().tolist())"
      ],
      "metadata": {
        "colab": {
          "base_uri": "https://localhost:8080/"
        },
        "id": "R-ZViomWMGPq",
        "outputId": "f34976c0-78ec-427d-e95a-1a78fdbe0ad2"
      },
      "execution_count": 89,
      "outputs": [
        {
          "output_type": "stream",
          "name": "stdout",
          "text": [
            "[0, 1, 0, 0, 1, 1, 0, 1, 0, 1, 0, 1, 0, 0, 1, 0, 0, 0, 1, 0, 1, 1, 0, 1, 0, 1, 0, 0, 1, 0, 1, 0]\n",
            "[0, 1, 0, 0, 1, 1, 0, 0, 0, 1, 1, 1, 0, 0, 1, 0, 0, 1, 1, 1, 1, 1, 0, 1, 1, 1, 1, 0, 1, 0, 1, 0]\n"
          ]
        },
        {
          "output_type": "execute_result",
          "data": {
            "text/plain": [
              "(None, None)"
            ]
          },
          "metadata": {},
          "execution_count": 89
        }
      ]
    },
    {
      "cell_type": "code",
      "source": [],
      "metadata": {
        "id": "y6bYlfC1MGRd"
      },
      "execution_count": null,
      "outputs": []
    },
    {
      "cell_type": "code",
      "source": [],
      "metadata": {
        "id": "HsHbpSN-_NDf"
      },
      "execution_count": null,
      "outputs": []
    },
    {
      "cell_type": "code",
      "source": [],
      "metadata": {
        "id": "5l9fiQ1b50Vd"
      },
      "execution_count": null,
      "outputs": []
    }
  ]
}