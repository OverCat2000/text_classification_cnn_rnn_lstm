{
  "nbformat": 4,
  "nbformat_minor": 0,
  "metadata": {
    "colab": {
      "provenance": [],
      "gpuType": "T4",
      "authorship_tag": "ABX9TyPXM/jVXmBIck/Nr7bpWLXB",
      "include_colab_link": true
    },
    "kernelspec": {
      "name": "python3",
      "display_name": "Python 3"
    },
    "language_info": {
      "name": "python"
    },
    "accelerator": "GPU",
    "widgets": {
      "application/vnd.jupyter.widget-state+json": {
        "c61a731c46d44d50b384db83a51f2508": {
          "model_module": "@jupyter-widgets/controls",
          "model_name": "HBoxModel",
          "model_module_version": "1.5.0",
          "state": {
            "_dom_classes": [],
            "_model_module": "@jupyter-widgets/controls",
            "_model_module_version": "1.5.0",
            "_model_name": "HBoxModel",
            "_view_count": null,
            "_view_module": "@jupyter-widgets/controls",
            "_view_module_version": "1.5.0",
            "_view_name": "HBoxView",
            "box_style": "",
            "children": [
              "IPY_MODEL_d65a71957d2447b59074ef681082f6f3",
              "IPY_MODEL_3dbf38088c834927b291efc814387a57",
              "IPY_MODEL_a1f484c7e6d2406f8de3d621a0f80241"
            ],
            "layout": "IPY_MODEL_cd2cd7aa39ff4c80882e72a2d29967e3"
          }
        },
        "d65a71957d2447b59074ef681082f6f3": {
          "model_module": "@jupyter-widgets/controls",
          "model_name": "HTMLModel",
          "model_module_version": "1.5.0",
          "state": {
            "_dom_classes": [],
            "_model_module": "@jupyter-widgets/controls",
            "_model_module_version": "1.5.0",
            "_model_name": "HTMLModel",
            "_view_count": null,
            "_view_module": "@jupyter-widgets/controls",
            "_view_module_version": "1.5.0",
            "_view_name": "HTMLView",
            "description": "",
            "description_tooltip": null,
            "layout": "IPY_MODEL_5db913255e7f411992018b3430ae496f",
            "placeholder": "​",
            "style": "IPY_MODEL_4cd3f2a265254f9195d880693ddbdf1e",
            "value": " 12%"
          }
        },
        "3dbf38088c834927b291efc814387a57": {
          "model_module": "@jupyter-widgets/controls",
          "model_name": "FloatProgressModel",
          "model_module_version": "1.5.0",
          "state": {
            "_dom_classes": [],
            "_model_module": "@jupyter-widgets/controls",
            "_model_module_version": "1.5.0",
            "_model_name": "FloatProgressModel",
            "_view_count": null,
            "_view_module": "@jupyter-widgets/controls",
            "_view_module_version": "1.5.0",
            "_view_name": "ProgressView",
            "bar_style": "danger",
            "description": "",
            "description_tooltip": null,
            "layout": "IPY_MODEL_3e942537617f49148f3cc8e6db64e829",
            "max": 100,
            "min": 0,
            "orientation": "horizontal",
            "style": "IPY_MODEL_1523909c899749248443adb5622bec99",
            "value": 12
          }
        },
        "a1f484c7e6d2406f8de3d621a0f80241": {
          "model_module": "@jupyter-widgets/controls",
          "model_name": "HTMLModel",
          "model_module_version": "1.5.0",
          "state": {
            "_dom_classes": [],
            "_model_module": "@jupyter-widgets/controls",
            "_model_module_version": "1.5.0",
            "_model_name": "HTMLModel",
            "_view_count": null,
            "_view_module": "@jupyter-widgets/controls",
            "_view_module_version": "1.5.0",
            "_view_name": "HTMLView",
            "description": "",
            "description_tooltip": null,
            "layout": "IPY_MODEL_7e73badce0c346bb879c2f5089a4bf8e",
            "placeholder": "​",
            "style": "IPY_MODEL_d0cd9d1af91d41bcaaba0920be223b27",
            "value": " 12/100 [08:35&lt;1:01:59, 42.27s/it]"
          }
        },
        "cd2cd7aa39ff4c80882e72a2d29967e3": {
          "model_module": "@jupyter-widgets/base",
          "model_name": "LayoutModel",
          "model_module_version": "1.2.0",
          "state": {
            "_model_module": "@jupyter-widgets/base",
            "_model_module_version": "1.2.0",
            "_model_name": "LayoutModel",
            "_view_count": null,
            "_view_module": "@jupyter-widgets/base",
            "_view_module_version": "1.2.0",
            "_view_name": "LayoutView",
            "align_content": null,
            "align_items": null,
            "align_self": null,
            "border": null,
            "bottom": null,
            "display": null,
            "flex": null,
            "flex_flow": null,
            "grid_area": null,
            "grid_auto_columns": null,
            "grid_auto_flow": null,
            "grid_auto_rows": null,
            "grid_column": null,
            "grid_gap": null,
            "grid_row": null,
            "grid_template_areas": null,
            "grid_template_columns": null,
            "grid_template_rows": null,
            "height": null,
            "justify_content": null,
            "justify_items": null,
            "left": null,
            "margin": null,
            "max_height": null,
            "max_width": null,
            "min_height": null,
            "min_width": null,
            "object_fit": null,
            "object_position": null,
            "order": null,
            "overflow": null,
            "overflow_x": null,
            "overflow_y": null,
            "padding": null,
            "right": null,
            "top": null,
            "visibility": null,
            "width": null
          }
        },
        "5db913255e7f411992018b3430ae496f": {
          "model_module": "@jupyter-widgets/base",
          "model_name": "LayoutModel",
          "model_module_version": "1.2.0",
          "state": {
            "_model_module": "@jupyter-widgets/base",
            "_model_module_version": "1.2.0",
            "_model_name": "LayoutModel",
            "_view_count": null,
            "_view_module": "@jupyter-widgets/base",
            "_view_module_version": "1.2.0",
            "_view_name": "LayoutView",
            "align_content": null,
            "align_items": null,
            "align_self": null,
            "border": null,
            "bottom": null,
            "display": null,
            "flex": null,
            "flex_flow": null,
            "grid_area": null,
            "grid_auto_columns": null,
            "grid_auto_flow": null,
            "grid_auto_rows": null,
            "grid_column": null,
            "grid_gap": null,
            "grid_row": null,
            "grid_template_areas": null,
            "grid_template_columns": null,
            "grid_template_rows": null,
            "height": null,
            "justify_content": null,
            "justify_items": null,
            "left": null,
            "margin": null,
            "max_height": null,
            "max_width": null,
            "min_height": null,
            "min_width": null,
            "object_fit": null,
            "object_position": null,
            "order": null,
            "overflow": null,
            "overflow_x": null,
            "overflow_y": null,
            "padding": null,
            "right": null,
            "top": null,
            "visibility": null,
            "width": null
          }
        },
        "4cd3f2a265254f9195d880693ddbdf1e": {
          "model_module": "@jupyter-widgets/controls",
          "model_name": "DescriptionStyleModel",
          "model_module_version": "1.5.0",
          "state": {
            "_model_module": "@jupyter-widgets/controls",
            "_model_module_version": "1.5.0",
            "_model_name": "DescriptionStyleModel",
            "_view_count": null,
            "_view_module": "@jupyter-widgets/base",
            "_view_module_version": "1.2.0",
            "_view_name": "StyleView",
            "description_width": ""
          }
        },
        "3e942537617f49148f3cc8e6db64e829": {
          "model_module": "@jupyter-widgets/base",
          "model_name": "LayoutModel",
          "model_module_version": "1.2.0",
          "state": {
            "_model_module": "@jupyter-widgets/base",
            "_model_module_version": "1.2.0",
            "_model_name": "LayoutModel",
            "_view_count": null,
            "_view_module": "@jupyter-widgets/base",
            "_view_module_version": "1.2.0",
            "_view_name": "LayoutView",
            "align_content": null,
            "align_items": null,
            "align_self": null,
            "border": null,
            "bottom": null,
            "display": null,
            "flex": null,
            "flex_flow": null,
            "grid_area": null,
            "grid_auto_columns": null,
            "grid_auto_flow": null,
            "grid_auto_rows": null,
            "grid_column": null,
            "grid_gap": null,
            "grid_row": null,
            "grid_template_areas": null,
            "grid_template_columns": null,
            "grid_template_rows": null,
            "height": null,
            "justify_content": null,
            "justify_items": null,
            "left": null,
            "margin": null,
            "max_height": null,
            "max_width": null,
            "min_height": null,
            "min_width": null,
            "object_fit": null,
            "object_position": null,
            "order": null,
            "overflow": null,
            "overflow_x": null,
            "overflow_y": null,
            "padding": null,
            "right": null,
            "top": null,
            "visibility": null,
            "width": null
          }
        },
        "1523909c899749248443adb5622bec99": {
          "model_module": "@jupyter-widgets/controls",
          "model_name": "ProgressStyleModel",
          "model_module_version": "1.5.0",
          "state": {
            "_model_module": "@jupyter-widgets/controls",
            "_model_module_version": "1.5.0",
            "_model_name": "ProgressStyleModel",
            "_view_count": null,
            "_view_module": "@jupyter-widgets/base",
            "_view_module_version": "1.2.0",
            "_view_name": "StyleView",
            "bar_color": null,
            "description_width": ""
          }
        },
        "7e73badce0c346bb879c2f5089a4bf8e": {
          "model_module": "@jupyter-widgets/base",
          "model_name": "LayoutModel",
          "model_module_version": "1.2.0",
          "state": {
            "_model_module": "@jupyter-widgets/base",
            "_model_module_version": "1.2.0",
            "_model_name": "LayoutModel",
            "_view_count": null,
            "_view_module": "@jupyter-widgets/base",
            "_view_module_version": "1.2.0",
            "_view_name": "LayoutView",
            "align_content": null,
            "align_items": null,
            "align_self": null,
            "border": null,
            "bottom": null,
            "display": null,
            "flex": null,
            "flex_flow": null,
            "grid_area": null,
            "grid_auto_columns": null,
            "grid_auto_flow": null,
            "grid_auto_rows": null,
            "grid_column": null,
            "grid_gap": null,
            "grid_row": null,
            "grid_template_areas": null,
            "grid_template_columns": null,
            "grid_template_rows": null,
            "height": null,
            "justify_content": null,
            "justify_items": null,
            "left": null,
            "margin": null,
            "max_height": null,
            "max_width": null,
            "min_height": null,
            "min_width": null,
            "object_fit": null,
            "object_position": null,
            "order": null,
            "overflow": null,
            "overflow_x": null,
            "overflow_y": null,
            "padding": null,
            "right": null,
            "top": null,
            "visibility": null,
            "width": null
          }
        },
        "d0cd9d1af91d41bcaaba0920be223b27": {
          "model_module": "@jupyter-widgets/controls",
          "model_name": "DescriptionStyleModel",
          "model_module_version": "1.5.0",
          "state": {
            "_model_module": "@jupyter-widgets/controls",
            "_model_module_version": "1.5.0",
            "_model_name": "DescriptionStyleModel",
            "_view_count": null,
            "_view_module": "@jupyter-widgets/base",
            "_view_module_version": "1.2.0",
            "_view_name": "StyleView",
            "description_width": ""
          }
        }
      }
    }
  },
  "cells": [
    {
      "cell_type": "markdown",
      "metadata": {
        "id": "view-in-github",
        "colab_type": "text"
      },
      "source": [
        "<a href=\"https://colab.research.google.com/github/OverCat2000/text_classification_cnn_rnn_lstm/blob/main/lstm_text_classification.ipynb\" target=\"_parent\"><img src=\"https://colab.research.google.com/assets/colab-badge.svg\" alt=\"Open In Colab\"/></a>"
      ]
    },
    {
      "cell_type": "code",
      "execution_count": 1,
      "metadata": {
        "id": "7RvNHbzcL7aa",
        "colab": {
          "base_uri": "https://localhost:8080/"
        },
        "outputId": "a0246ef6-94fb-48ea-c552-99d717a7446a"
      },
      "outputs": [
        {
          "output_type": "stream",
          "name": "stdout",
          "text": [
            "Mounted at /content/drive\n"
          ]
        }
      ],
      "source": [
        "import gensim\n",
        "import pathlib\n",
        "import glob\n",
        "import os\n",
        "from random import shuffle\n",
        "import pickle\n",
        "from tqdm.auto import tqdm\n",
        "\n",
        "from nltk.tokenize import TreebankWordTokenizer\n",
        "\n",
        "import numpy as np\n",
        "import pandas as pd\n",
        "\n",
        "import torch\n",
        "from torch.nn.utils.rnn import pad_sequence\n",
        "from torch.utils.data import DataLoader, TensorDataset\n",
        "import torch.nn as nn\n",
        "\n",
        "from google.colab import drive\n",
        "drive.mount('/content/drive')"
      ]
    },
    {
      "cell_type": "code",
      "source": [
        "!wget https://ai.stanford.edu/~amaas/data/sentiment/aclImdb_v1.tar.gz\n",
        "!tar -xf aclImdb_v1.tar.gz"
      ],
      "metadata": {
        "id": "8IoccQC9sxC7",
        "colab": {
          "base_uri": "https://localhost:8080/"
        },
        "outputId": "31b3e1fa-63bd-4728-f7e6-066536710ee5"
      },
      "execution_count": 2,
      "outputs": [
        {
          "output_type": "stream",
          "name": "stdout",
          "text": [
            "--2024-06-19 17:02:47--  https://ai.stanford.edu/~amaas/data/sentiment/aclImdb_v1.tar.gz\n",
            "Resolving ai.stanford.edu (ai.stanford.edu)... 171.64.68.10\n",
            "Connecting to ai.stanford.edu (ai.stanford.edu)|171.64.68.10|:443... connected.\n",
            "HTTP request sent, awaiting response... 200 OK\n",
            "Length: 84125825 (80M) [application/x-gzip]\n",
            "Saving to: ‘aclImdb_v1.tar.gz’\n",
            "\n",
            "aclImdb_v1.tar.gz   100%[===================>]  80.23M  21.9MB/s    in 5.2s    \n",
            "\n",
            "2024-06-19 17:02:53 (15.4 MB/s) - ‘aclImdb_v1.tar.gz’ saved [84125825/84125825]\n",
            "\n"
          ]
        }
      ]
    },
    {
      "cell_type": "code",
      "source": [
        "model_path = '/content/drive/MyDrive/word2vec-google-news-300/word2vec-google-news-300.model'\n",
        "\n",
        "train_path = pathlib.Path('aclImdb/train')\n",
        "pos_path = train_path / 'pos'\n",
        "neg_path = train_path / 'neg'\n",
        "\n",
        "fixed_len = 600\n",
        "batch_size = 32\n",
        "embedding_dims = 300\n",
        "filters = 250\n",
        "kernel_size = 3\n",
        "hidden_dims = 250\n",
        "epochs = 2\n",
        "\n",
        "if torch.cuda.is_available():\n",
        "    device = torch.device(\"cuda\")\n",
        "    print(f'There are {torch.cuda.device_count()} GPU(s) available.')\n",
        "    print('Device name:', torch.cuda.get_device_name(0))\n",
        "\n",
        "else:\n",
        "    print('No GPU available, using the CPU instead.')\n",
        "    device = torch.device(\"cpu\")"
      ],
      "metadata": {
        "colab": {
          "base_uri": "https://localhost:8080/"
        },
        "id": "bOeQ2Iz-xwN0",
        "outputId": "afadd8d1-320a-49bb-a0a6-f21667e2cfe2"
      },
      "execution_count": 3,
      "outputs": [
        {
          "output_type": "stream",
          "name": "stdout",
          "text": [
            "There are 1 GPU(s) available.\n",
            "Device name: Tesla T4\n"
          ]
        }
      ]
    },
    {
      "cell_type": "code",
      "source": [
        "# model = gensim.models.KeyedVectors.load(model_path)"
      ],
      "metadata": {
        "id": "0j55lnZTABsG"
      },
      "execution_count": 4,
      "outputs": []
    },
    {
      "cell_type": "code",
      "source": [
        "def data(file_path):\n",
        "\n",
        "  dataset = []\n",
        "  pos_path = file_path / 'pos'\n",
        "  neg_path = file_path / 'neg'\n",
        "\n",
        "  for filename in glob.glob(os.path.join(pos_path, '*.txt')):\n",
        "      with open(filename, 'r') as f:\n",
        "        dataset.append((1, f.read()))\n",
        "\n",
        "  for filename in glob.glob(os.path.join(neg_path, '*.txt')):\n",
        "      with open(filename, 'r') as f:\n",
        "        dataset.append((0, f.read()))\n",
        "\n",
        "  shuffle(dataset)\n",
        "\n",
        "  return dataset"
      ],
      "metadata": {
        "id": "G6lRz7SUx15S"
      },
      "execution_count": 5,
      "outputs": []
    },
    {
      "cell_type": "code",
      "source": [
        "dataset = data(train_path)"
      ],
      "metadata": {
        "id": "FEol5fCqx8cp"
      },
      "execution_count": 6,
      "outputs": []
    },
    {
      "cell_type": "code",
      "source": [
        "len(dataset)"
      ],
      "metadata": {
        "colab": {
          "base_uri": "https://localhost:8080/"
        },
        "id": "2Qz5JwALPK8b",
        "outputId": "eb3a6f6b-f1a4-4238-811b-fb9b1e45a671"
      },
      "execution_count": 7,
      "outputs": [
        {
          "output_type": "execute_result",
          "data": {
            "text/plain": [
              "25000"
            ]
          },
          "metadata": {},
          "execution_count": 7
        }
      ]
    },
    {
      "cell_type": "code",
      "source": [
        "def vocabulary(dataset):\n",
        "  tokenizer = TreebankWordTokenizer()\n",
        "\n",
        "  max_len = 0\n",
        "  fixed_len = 600\n",
        "  tokenized_texts = []\n",
        "  word2idx = {}\n",
        "\n",
        "  word2idx['<PAD>'] = 0\n",
        "  word2idx['<UNK>'] = 1\n",
        "\n",
        "  idx = 2\n",
        "\n",
        "  for text in dataset:\n",
        "    tokenized_text = tokenizer.tokenize(text[1])\n",
        "    tokenized_texts.append(tokenized_text)\n",
        "\n",
        "    for token in tokenized_text:\n",
        "\n",
        "      if token not in word2idx:\n",
        "        word2idx[token] = idx\n",
        "        idx = idx + 1\n",
        "\n",
        "    max_len = max(max_len, len(tokenized_text))\n",
        "\n",
        "  return max_len, word2idx, tokenized_texts"
      ],
      "metadata": {
        "id": "QryYRU_gvQHX"
      },
      "execution_count": 8,
      "outputs": []
    },
    {
      "cell_type": "code",
      "source": [],
      "metadata": {
        "id": "I7mVAhJEPJ8e"
      },
      "execution_count": 8,
      "outputs": []
    },
    {
      "cell_type": "code",
      "source": [
        "def encoder(fixed_len, tokenized_texts, word2idx):\n",
        "  input_ids = []\n",
        "\n",
        "  for tokenized_text in tokenized_texts:\n",
        "\n",
        "    if len(tokenized_text) < fixed_len:\n",
        "\n",
        "      tokenized_text += ['<PAD>']*(fixed_len - len(tokenized_text))\n",
        "\n",
        "    elif len(tokenized_text) > fixed_len:\n",
        "\n",
        "      tokenized_text = tokenized_text[:fixed_len]\n",
        "\n",
        "    input_id = [word2idx.get(i) for i in tokenized_text]\n",
        "    input_ids.append(input_id)\n",
        "\n",
        "  return np.array(input_ids)"
      ],
      "metadata": {
        "id": "Qt8IwJVI1Hbk"
      },
      "execution_count": 9,
      "outputs": []
    },
    {
      "cell_type": "code",
      "source": [
        "def load_pretrained_vectors(model_path, word2idx):\n",
        "  model = gensim.models.KeyedVectors.load(model_path)\n",
        "  print(\"model loaded\")\n",
        "  d = model.vector_size\n",
        "  embeddings = np.random.uniform(-0.25, 0.25, (len(word2idx), d))\n",
        "  available_count = 0\n",
        "  unavailabel_count = 0\n",
        "\n",
        "  if '<PAD>' in word2idx:\n",
        "    embeddings[word2idx['<PAD>']] = np.zeros(d)\n",
        "\n",
        "  for word, idx in word2idx.items():\n",
        "\n",
        "    try:\n",
        "      pretrained_embedddings = model[word]\n",
        "      available_count += 1\n",
        "      embeddings[idx] = pretrained_embedddings\n",
        "    except KeyError:\n",
        "      unavailabel_count +=1\n",
        "      pass\n",
        "\n",
        "  print(f\"availabel words: {available_count / len(word2idx) * 100}\")\n",
        "\n",
        "  return embeddings"
      ],
      "metadata": {
        "id": "tQlksti46Spa"
      },
      "execution_count": 10,
      "outputs": []
    },
    {
      "cell_type": "code",
      "source": [
        "def Labels(dataset):\n",
        "\n",
        "    labels = []\n",
        "    for sample in dataset:\n",
        "      labels.append(sample[0])\n",
        "    return np.array(labels)"
      ],
      "metadata": {
        "id": "ReW2qBsWGJWY"
      },
      "execution_count": 11,
      "outputs": []
    },
    {
      "cell_type": "code",
      "source": [
        "def main(model_path, dataset):\n",
        "  max_len, word2idx, tokenized_texts = vocabulary(dataset)\n",
        "  input_ids = encoder(fixed_len, tokenized_texts, word2idx)\n",
        "\n",
        "  embeddings = load_pretrained_vectors(model_path, word2idx)\n",
        "  embeddings = torch.tensor(embeddings)\n",
        "\n",
        "  labels = Labels(dataset)\n",
        "  train_size = int(len(input_ids) * 0.8)\n",
        "\n",
        "  X_train = torch.Tensor(input_ids[:train_size])\n",
        "  X_val = torch.Tensor(input_ids[train_size:])\n",
        "\n",
        "  y_train = torch.Tensor(labels[:train_size])\n",
        "  y_val = torch.Tensor(labels[train_size:])\n",
        "\n",
        "  train_dataloader = DataLoader(TensorDataset(X_train, y_train), batch_size, True)\n",
        "  val_dataloader = DataLoader(TensorDataset(X_val, y_val), batch_size, False)\n",
        "\n",
        "  return train_dataloader, val_dataloader, embeddings"
      ],
      "metadata": {
        "id": "he69CHGgzqMc"
      },
      "execution_count": 12,
      "outputs": []
    },
    {
      "cell_type": "code",
      "source": [
        "train_dataloader, val_dataloader, embeddings = main(model_path, dataset)"
      ],
      "metadata": {
        "colab": {
          "base_uri": "https://localhost:8080/"
        },
        "id": "Srbgb6k2GVtB",
        "outputId": "509042d7-c18c-41c0-92f3-bd44bbe142c4"
      },
      "execution_count": 13,
      "outputs": [
        {
          "output_type": "stream",
          "name": "stdout",
          "text": [
            "model loaded\n",
            "availabel words: 51.49792462228125\n"
          ]
        }
      ]
    },
    {
      "cell_type": "code",
      "source": [
        "class LSTMnet(nn.Module):\n",
        "  def __init__(self, hidden_units, output_shape, kernel, pretrained_embeddings):\n",
        "    super().__init__()\n",
        "\n",
        "    self.vocab_size, self.embed_dim = pretrained_embeddings.shape\n",
        "    self.embedding = nn.Embedding.from_pretrained(pretrained_embeddings, freeze=True)\n",
        "\n",
        "    # self.block = nn.Sequential(\n",
        "    #     nn.Conv1d(self.embed_dim, hidden_units, kernel_size=kernel),\n",
        "    #     nn.ReLU(),\n",
        "    #     nn.MaxPool1d(2)\n",
        "    # )\n",
        "\n",
        "    #self.rnn = nn.RNN(input_size=self.embed_dim, hidden_size=hidden_units, batch_first=True, bidirectional=True)\n",
        "    self.lstm = nn.LSTM(input_size=self.embed_dim, hidden_size=hidden_units, batch_first=True, bidirectional=True)\n",
        "\n",
        "\n",
        "\n",
        "    self.flat = nn.Flatten(start_dim=1)\n",
        "    self.fc = nn.Linear(in_features=hidden_units*1200, out_features=output_shape)\n",
        "    #self.sigmoid = nn.Sigmoid()\n",
        "\n",
        "\n",
        "  def forward(self, x):\n",
        "    x = self.embedding(x.int()).float()\n",
        "    x, _ = self.lstm(x)\n",
        "    x = self.flat(x)\n",
        "    x = self.fc(x)\n",
        "    #x = self.sigmoid(x)\n",
        "    return x"
      ],
      "metadata": {
        "id": "3Mqrc9CU7rOL"
      },
      "execution_count": 27,
      "outputs": []
    },
    {
      "cell_type": "code",
      "source": [
        "class BinaryAccuracy:\n",
        "    def __init__(self, threshold=0.5):\n",
        "        self.threshold = threshold\n",
        "\n",
        "    def __call__(self, logits, targets):\n",
        "        # Apply sigmoid to logits to get probabilities\n",
        "        probabilities = torch.sigmoid(logits).squeeze(dim=1)\n",
        "        # Convert probabilities to binary predictions\n",
        "        predictions = (probabilities >= self.threshold).float()\n",
        "        # Compare predictions with targets and calculate accuracy\n",
        "        correct = (predictions == targets).float().sum()\n",
        "        accuracy = correct / targets.numel()\n",
        "        return accuracy.item()"
      ],
      "metadata": {
        "id": "zjMnKvQt7rK6"
      },
      "execution_count": 28,
      "outputs": []
    },
    {
      "cell_type": "code",
      "source": [
        "lstm = LSTMnet(filters, 1, kernel_size, embeddings)\n",
        "loss_fn = nn.BCEWithLogitsLoss()\n",
        "optimizer = torch.optim.Adam(params=lstm.parameters(), lr=0.001)\n",
        "accuracy_fn = BinaryAccuracy()\n",
        "lstm.to(device)"
      ],
      "metadata": {
        "colab": {
          "base_uri": "https://localhost:8080/"
        },
        "id": "fD0q9lA8_NJ3",
        "outputId": "795135e6-84f9-45dc-f589-f617acbbaf06"
      },
      "execution_count": 29,
      "outputs": [
        {
          "output_type": "execute_result",
          "data": {
            "text/plain": [
              "LSTMnet(\n",
              "  (embedding): Embedding(150575, 300)\n",
              "  (lstm): LSTM(300, 250, batch_first=True, bidirectional=True)\n",
              "  (flat): Flatten(start_dim=1, end_dim=-1)\n",
              "  (fc): Linear(in_features=300000, out_features=1, bias=True)\n",
              ")"
            ]
          },
          "metadata": {},
          "execution_count": 29
        }
      ]
    },
    {
      "cell_type": "code",
      "source": [
        "def train_step(model: torch.nn.Module,\n",
        "               dataloader: torch.utils.data.DataLoader,\n",
        "               loss_fn: torch.nn.Module,\n",
        "               optimizer: torch.optim.Optimizer):\n",
        "    # Put model in train mode\n",
        "    model.train()\n",
        "\n",
        "    # Setup train loss and train accuracy values\n",
        "    train_loss, train_acc = 0, 0\n",
        "\n",
        "    # Loop through data loader data batches\n",
        "    for batch, (X, y) in enumerate(dataloader):\n",
        "        # 1. Forward pass\n",
        "        X = X.to(device)\n",
        "        y = y.to(device)\n",
        "        y_pred = model(X)\n",
        "\n",
        "\n",
        "\n",
        "        # 2. Calculate  and accumulate loss\n",
        "        loss = loss_fn(y_pred.squeeze(1), y)\n",
        "        train_loss += loss.item()\n",
        "\n",
        "        # 3. Optimizer zero grad\n",
        "        optimizer.zero_grad()\n",
        "\n",
        "        # 4. Loss backward\n",
        "        loss.backward()\n",
        "\n",
        "        # 5. Optimizer step\n",
        "        optimizer.step()\n",
        "\n",
        "        # Calculate and accumulate accuracy metric across all batches\n",
        "        train_acc += accuracy_fn(y_pred, y)\n",
        "\n",
        "    # Adjust metrics to get average loss and accuracy per batch\n",
        "    train_loss = train_loss / len(dataloader)\n",
        "    train_acc = train_acc / len(dataloader)\n",
        "    return train_loss, train_acc"
      ],
      "metadata": {
        "id": "_PJ0DVn_E486"
      },
      "execution_count": 30,
      "outputs": []
    },
    {
      "cell_type": "code",
      "source": [
        "def test_step(model: torch.nn.Module,\n",
        "              dataloader: torch.utils.data.DataLoader,\n",
        "              loss_fn: torch.nn.Module):\n",
        "    # Put model in eval mode\n",
        "    model.eval()\n",
        "\n",
        "    # Setup test loss and test accuracy values\n",
        "    test_loss, test_acc = 0, 0\n",
        "\n",
        "    # Turn on inference context manager\n",
        "    with torch.inference_mode():\n",
        "        # Loop through DataLoader batches\n",
        "        for batch, (X, y) in enumerate(dataloader):\n",
        "            X = X.to(device)\n",
        "            y = y.to(device)\n",
        "            # 1. Forward pass\n",
        "            test_pred_logits = model(X)\n",
        "\n",
        "            # 2. Calculate and accumulate loss\n",
        "            loss = loss_fn(test_pred_logits.squeeze(1), y)\n",
        "            test_loss += loss.item()\n",
        "\n",
        "            # Calculate and accumulate accuracy\n",
        "            test_acc += accuracy_fn(test_pred_logits, y)\n",
        "\n",
        "    # Adjust metrics to get average loss and accuracy per batch\n",
        "    test_loss = test_loss / len(dataloader)\n",
        "    test_acc = test_acc / len(dataloader)\n",
        "    return test_loss, test_acc"
      ],
      "metadata": {
        "id": "9TfItmWfMGEQ"
      },
      "execution_count": 31,
      "outputs": []
    },
    {
      "cell_type": "code",
      "source": [
        "def train(model: torch.nn.Module,\n",
        "          train_dataloader: torch.utils.data.DataLoader,\n",
        "          test_dataloader: torch.utils.data.DataLoader,\n",
        "          optimizer: torch.optim.Optimizer,\n",
        "          loss_fn: torch.nn.Module,\n",
        "          epochs: int = 5):\n",
        "\n",
        "    # 2. Create empty results dictionary\n",
        "    results = {\"train_loss\": [],\n",
        "        \"train_acc\": [],\n",
        "        \"test_loss\": [],\n",
        "        \"test_acc\": []\n",
        "    }\n",
        "\n",
        "    # 3. Loop through training and testing steps for a number of epochs\n",
        "    for epoch in tqdm(range(epochs)):\n",
        "        train_loss, train_acc = train_step(model=model,\n",
        "                                           dataloader=train_dataloader,\n",
        "                                           loss_fn=loss_fn,\n",
        "                                           optimizer=optimizer)\n",
        "        test_loss, test_acc = test_step(model=model,\n",
        "            dataloader=test_dataloader,\n",
        "            loss_fn=loss_fn)\n",
        "\n",
        "        # 4. Print out what's happening\n",
        "        print(\n",
        "            f\"Epoch: {epoch+1} | \"\n",
        "            f\"train_loss: {train_loss:.4f} | \"\n",
        "            f\"train_acc: {train_acc:.4f} | \"\n",
        "            f\"test_loss: {test_loss:.4f} | \"\n",
        "            f\"test_acc: {test_acc:.4f}\"\n",
        "        )\n",
        "\n",
        "        # 5. Update results dictionary\n",
        "        results[\"train_loss\"].append(train_loss)\n",
        "        results[\"train_acc\"].append(train_acc)\n",
        "        results[\"test_loss\"].append(test_loss)\n",
        "        results[\"test_acc\"].append(test_acc)\n",
        "\n",
        "    # 6. Return the filled results at the end of the epochs\n",
        "    return results"
      ],
      "metadata": {
        "id": "KCxdApiNMGHg"
      },
      "execution_count": 32,
      "outputs": []
    },
    {
      "cell_type": "code",
      "source": [
        "# Set random seeds\n",
        "torch.manual_seed(42)\n",
        "\n",
        "# Set number of epochs\n",
        "NUM_EPOCHS = 100\n",
        "\n",
        "# Start the timer\n",
        "from timeit import default_timer as timer\n",
        "start_time = timer()\n",
        "\n",
        "# Train model_0\n",
        "model_0_results = train(model=lstm,\n",
        "                        train_dataloader=train_dataloader,\n",
        "                        test_dataloader=val_dataloader,\n",
        "                        optimizer=optimizer,\n",
        "                        loss_fn=loss_fn,\n",
        "                        epochs=NUM_EPOCHS)\n",
        "\n",
        "# End the timer and print out how long it took\n",
        "end_time = timer()\n",
        "print(f\"Total training time: {end_time-start_time:.3f} seconds\")"
      ],
      "metadata": {
        "colab": {
          "base_uri": "https://localhost:8080/",
          "height": 571,
          "referenced_widgets": [
            "c61a731c46d44d50b384db83a51f2508",
            "d65a71957d2447b59074ef681082f6f3",
            "3dbf38088c834927b291efc814387a57",
            "a1f484c7e6d2406f8de3d621a0f80241",
            "cd2cd7aa39ff4c80882e72a2d29967e3",
            "5db913255e7f411992018b3430ae496f",
            "4cd3f2a265254f9195d880693ddbdf1e",
            "3e942537617f49148f3cc8e6db64e829",
            "1523909c899749248443adb5622bec99",
            "7e73badce0c346bb879c2f5089a4bf8e",
            "d0cd9d1af91d41bcaaba0920be223b27"
          ]
        },
        "id": "YqkHj5PYMGKQ",
        "outputId": "4ac4dabb-30d9-4274-bb9f-d6b51bbffa59"
      },
      "execution_count": 33,
      "outputs": [
        {
          "output_type": "display_data",
          "data": {
            "text/plain": [
              "  0%|          | 0/100 [00:00<?, ?it/s]"
            ],
            "application/vnd.jupyter.widget-view+json": {
              "version_major": 2,
              "version_minor": 0,
              "model_id": "c61a731c46d44d50b384db83a51f2508"
            }
          },
          "metadata": {}
        },
        {
          "output_type": "stream",
          "name": "stdout",
          "text": [
            "Epoch: 1 | train_loss: 0.4547 | train_acc: 0.7857 | test_loss: 0.3437 | test_acc: 0.8583\n",
            "Epoch: 2 | train_loss: 0.2566 | train_acc: 0.8971 | test_loss: 0.3487 | test_acc: 0.8643\n",
            "Epoch: 3 | train_loss: 0.1406 | train_acc: 0.9466 | test_loss: 0.4198 | test_acc: 0.8485\n",
            "Epoch: 4 | train_loss: 0.0570 | train_acc: 0.9813 | test_loss: 0.5221 | test_acc: 0.8569\n",
            "Epoch: 5 | train_loss: 0.0217 | train_acc: 0.9947 | test_loss: 0.6238 | test_acc: 0.8410\n",
            "Epoch: 6 | train_loss: 0.0201 | train_acc: 0.9942 | test_loss: 0.6990 | test_acc: 0.8410\n",
            "Epoch: 7 | train_loss: 0.0253 | train_acc: 0.9908 | test_loss: 0.7044 | test_acc: 0.8457\n",
            "Epoch: 8 | train_loss: 0.0269 | train_acc: 0.9913 | test_loss: 0.8715 | test_acc: 0.8127\n",
            "Epoch: 9 | train_loss: 0.0162 | train_acc: 0.9951 | test_loss: 0.7970 | test_acc: 0.8378\n",
            "Epoch: 10 | train_loss: 0.0087 | train_acc: 0.9974 | test_loss: 0.8228 | test_acc: 0.8539\n",
            "Epoch: 11 | train_loss: 0.0028 | train_acc: 0.9996 | test_loss: 0.8886 | test_acc: 0.8416\n",
            "Epoch: 12 | train_loss: 0.0009 | train_acc: 1.0000 | test_loss: 0.8896 | test_acc: 0.8575\n"
          ]
        },
        {
          "output_type": "error",
          "ename": "KeyboardInterrupt",
          "evalue": "",
          "traceback": [
            "\u001b[0;31m---------------------------------------------------------------------------\u001b[0m",
            "\u001b[0;31mKeyboardInterrupt\u001b[0m                         Traceback (most recent call last)",
            "\u001b[0;32m<ipython-input-33-2c2d55b2619e>\u001b[0m in \u001b[0;36m<cell line: 12>\u001b[0;34m()\u001b[0m\n\u001b[1;32m     10\u001b[0m \u001b[0;34m\u001b[0m\u001b[0m\n\u001b[1;32m     11\u001b[0m \u001b[0;31m# Train model_0\u001b[0m\u001b[0;34m\u001b[0m\u001b[0;34m\u001b[0m\u001b[0m\n\u001b[0;32m---> 12\u001b[0;31m model_0_results = train(model=lstm,\n\u001b[0m\u001b[1;32m     13\u001b[0m                         \u001b[0mtrain_dataloader\u001b[0m\u001b[0;34m=\u001b[0m\u001b[0mtrain_dataloader\u001b[0m\u001b[0;34m,\u001b[0m\u001b[0;34m\u001b[0m\u001b[0;34m\u001b[0m\u001b[0m\n\u001b[1;32m     14\u001b[0m                         \u001b[0mtest_dataloader\u001b[0m\u001b[0;34m=\u001b[0m\u001b[0mval_dataloader\u001b[0m\u001b[0;34m,\u001b[0m\u001b[0;34m\u001b[0m\u001b[0;34m\u001b[0m\u001b[0m\n",
            "\u001b[0;32m<ipython-input-32-4eea6029fe44>\u001b[0m in \u001b[0;36mtrain\u001b[0;34m(model, train_dataloader, test_dataloader, optimizer, loss_fn, epochs)\u001b[0m\n\u001b[1;32m     15\u001b[0m     \u001b[0;31m# 3. Loop through training and testing steps for a number of epochs\u001b[0m\u001b[0;34m\u001b[0m\u001b[0;34m\u001b[0m\u001b[0m\n\u001b[1;32m     16\u001b[0m     \u001b[0;32mfor\u001b[0m \u001b[0mepoch\u001b[0m \u001b[0;32min\u001b[0m \u001b[0mtqdm\u001b[0m\u001b[0;34m(\u001b[0m\u001b[0mrange\u001b[0m\u001b[0;34m(\u001b[0m\u001b[0mepochs\u001b[0m\u001b[0;34m)\u001b[0m\u001b[0;34m)\u001b[0m\u001b[0;34m:\u001b[0m\u001b[0;34m\u001b[0m\u001b[0;34m\u001b[0m\u001b[0m\n\u001b[0;32m---> 17\u001b[0;31m         train_loss, train_acc = train_step(model=model,\n\u001b[0m\u001b[1;32m     18\u001b[0m                                            \u001b[0mdataloader\u001b[0m\u001b[0;34m=\u001b[0m\u001b[0mtrain_dataloader\u001b[0m\u001b[0;34m,\u001b[0m\u001b[0;34m\u001b[0m\u001b[0;34m\u001b[0m\u001b[0m\n\u001b[1;32m     19\u001b[0m                                            \u001b[0mloss_fn\u001b[0m\u001b[0;34m=\u001b[0m\u001b[0mloss_fn\u001b[0m\u001b[0;34m,\u001b[0m\u001b[0;34m\u001b[0m\u001b[0;34m\u001b[0m\u001b[0m\n",
            "\u001b[0;32m<ipython-input-30-7dff5f25e522>\u001b[0m in \u001b[0;36mtrain_step\u001b[0;34m(model, dataloader, loss_fn, optimizer)\u001b[0m\n\u001b[1;32m     32\u001b[0m \u001b[0;34m\u001b[0m\u001b[0m\n\u001b[1;32m     33\u001b[0m         \u001b[0;31m# Calculate and accumulate accuracy metric across all batches\u001b[0m\u001b[0;34m\u001b[0m\u001b[0;34m\u001b[0m\u001b[0m\n\u001b[0;32m---> 34\u001b[0;31m         \u001b[0mtrain_acc\u001b[0m \u001b[0;34m+=\u001b[0m \u001b[0maccuracy_fn\u001b[0m\u001b[0;34m(\u001b[0m\u001b[0my_pred\u001b[0m\u001b[0;34m,\u001b[0m \u001b[0my\u001b[0m\u001b[0;34m)\u001b[0m\u001b[0;34m\u001b[0m\u001b[0;34m\u001b[0m\u001b[0m\n\u001b[0m\u001b[1;32m     35\u001b[0m \u001b[0;34m\u001b[0m\u001b[0m\n\u001b[1;32m     36\u001b[0m     \u001b[0;31m# Adjust metrics to get average loss and accuracy per batch\u001b[0m\u001b[0;34m\u001b[0m\u001b[0;34m\u001b[0m\u001b[0m\n",
            "\u001b[0;32m<ipython-input-28-08ca578ce4f8>\u001b[0m in \u001b[0;36m__call__\u001b[0;34m(self, logits, targets)\u001b[0m\n\u001b[1;32m     11\u001b[0m         \u001b[0mcorrect\u001b[0m \u001b[0;34m=\u001b[0m \u001b[0;34m(\u001b[0m\u001b[0mpredictions\u001b[0m \u001b[0;34m==\u001b[0m \u001b[0mtargets\u001b[0m\u001b[0;34m)\u001b[0m\u001b[0;34m.\u001b[0m\u001b[0mfloat\u001b[0m\u001b[0;34m(\u001b[0m\u001b[0;34m)\u001b[0m\u001b[0;34m.\u001b[0m\u001b[0msum\u001b[0m\u001b[0;34m(\u001b[0m\u001b[0;34m)\u001b[0m\u001b[0;34m\u001b[0m\u001b[0;34m\u001b[0m\u001b[0m\n\u001b[1;32m     12\u001b[0m         \u001b[0maccuracy\u001b[0m \u001b[0;34m=\u001b[0m \u001b[0mcorrect\u001b[0m \u001b[0;34m/\u001b[0m \u001b[0mtargets\u001b[0m\u001b[0;34m.\u001b[0m\u001b[0mnumel\u001b[0m\u001b[0;34m(\u001b[0m\u001b[0;34m)\u001b[0m\u001b[0;34m\u001b[0m\u001b[0;34m\u001b[0m\u001b[0m\n\u001b[0;32m---> 13\u001b[0;31m         \u001b[0;32mreturn\u001b[0m \u001b[0maccuracy\u001b[0m\u001b[0;34m.\u001b[0m\u001b[0mitem\u001b[0m\u001b[0;34m(\u001b[0m\u001b[0;34m)\u001b[0m\u001b[0;34m\u001b[0m\u001b[0;34m\u001b[0m\u001b[0m\n\u001b[0m",
            "\u001b[0;31mKeyboardInterrupt\u001b[0m: "
          ]
        }
      ]
    },
    {
      "cell_type": "code",
      "source": [
        "def make_predictions(model, data):\n",
        "\n",
        "    pred_class = []\n",
        "\n",
        "    model.eval()\n",
        "\n",
        "    with torch.inference_mode():\n",
        "        for sample in data:\n",
        "            sample = torch.unsqueeze(sample, dim=0)\n",
        "            sample = sample.to(device)\n",
        "\n",
        "            pred_logits = model(sample)\n",
        "\n",
        "            pred_probs = torch.sigmoid(pred_logits)\n",
        "\n",
        "            if pred_probs >= 0.5:\n",
        "                pred_class.append(1)\n",
        "            else:\n",
        "                pred_class.append(0)\n",
        "\n",
        "    return pred_class"
      ],
      "metadata": {
        "id": "Cq8QCWm6MGNI"
      },
      "execution_count": null,
      "outputs": []
    },
    {
      "cell_type": "code",
      "source": [
        "sample_labels = next(iter(val_dataloader))[1]\n",
        "sample_features = next(iter(val_dataloader))[0]\n",
        "\n",
        "pred = make_predictions(rnn, sample_features)\n",
        "\n",
        "print(pred), print(sample_labels.int().tolist())"
      ],
      "metadata": {
        "colab": {
          "base_uri": "https://localhost:8080/"
        },
        "id": "R-ZViomWMGPq",
        "outputId": "f34976c0-78ec-427d-e95a-1a78fdbe0ad2"
      },
      "execution_count": null,
      "outputs": [
        {
          "output_type": "stream",
          "name": "stdout",
          "text": [
            "[0, 1, 0, 0, 1, 1, 0, 1, 0, 1, 0, 1, 0, 0, 1, 0, 0, 0, 1, 0, 1, 1, 0, 1, 0, 1, 0, 0, 1, 0, 1, 0]\n",
            "[0, 1, 0, 0, 1, 1, 0, 0, 0, 1, 1, 1, 0, 0, 1, 0, 0, 1, 1, 1, 1, 1, 0, 1, 1, 1, 1, 0, 1, 0, 1, 0]\n"
          ]
        },
        {
          "output_type": "execute_result",
          "data": {
            "text/plain": [
              "(None, None)"
            ]
          },
          "metadata": {},
          "execution_count": 89
        }
      ]
    },
    {
      "cell_type": "code",
      "source": [],
      "metadata": {
        "id": "y6bYlfC1MGRd"
      },
      "execution_count": null,
      "outputs": []
    },
    {
      "cell_type": "code",
      "source": [],
      "metadata": {
        "id": "HsHbpSN-_NDf"
      },
      "execution_count": null,
      "outputs": []
    },
    {
      "cell_type": "code",
      "source": [],
      "metadata": {
        "id": "5l9fiQ1b50Vd"
      },
      "execution_count": null,
      "outputs": []
    }
  ]
}